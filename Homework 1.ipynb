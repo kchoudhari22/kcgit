{
 "cells": [
  {
   "cell_type": "markdown",
   "id": "724fd47d",
   "metadata": {
    "jp-MarkdownHeadingCollapsed": true
   },
   "source": [
    "## STA 4724: Homework 1 - Due Tuesday, Sep. 10 \n",
    "**Instructions**: Finish the assign by directly answering the question or finishing the code in this Jupyter notebook. \n",
    "\n",
    "After you finish, submit the saved notebook to webcourses."
   ]
  },
  {
   "cell_type": "markdown",
   "id": "b28770c6",
   "metadata": {},
   "source": [
    "**Your name:** Katelyn Choudhari                    \n",
    "\n",
    "**Your ID:** ka609383"
   ]
  },
  {
   "cell_type": "markdown",
   "id": "4e1f7ada",
   "metadata": {},
   "source": [
    "## Question 1\n",
    "Write a function $\\mathtt{largerIndex}(c)$ that takes as input a list $c$ of numbers, and returns a new list $k$, such that $k[i] = 1$ if $c[i] > i$, $k[i] = 0$ if $c[i] = i$, $k[i] = -1$ if $c[i] < i$.\n",
    "\n"
   ]
  },
  {
   "cell_type": "markdown",
   "id": "6b792a5f",
   "metadata": {},
   "source": [
    "*Sample test cases*:\n",
    "\n",
    "$l1 = [1,2,0,4,2,1,40,-5]$ \n",
    "\n",
    "$l2 = [0,3,2,1,32,3,4,0]$ \n",
    "\n",
    "$\\mathtt{largerIndex}(l1)$ should return $[1, 1, -1, 1, -1, -1, 1, -1]$. \n",
    "\n",
    "$\\mathtt{largerIndex}(l2)$ should return $[0, 1, 0, -1, 1, -1, -1, -1]$. \n"
   ]
  },
  {
   "cell_type": "code",
   "execution_count": 10,
   "id": "f4c42d46",
   "metadata": {},
   "outputs": [
    {
     "name": "stdout",
     "output_type": "stream",
     "text": [
      "[1, 1, -1, 1, -1, -1, 1, -1]\n",
      "[0, 1, 0, -1, 1, -1, -1, -1]\n"
     ]
    }
   ],
   "source": [
    "def largerIndex(c):\n",
    "    k = [] #init. empty list\n",
    "    for i in range(len(c)): #iter. through the length of list c\n",
    "        if c[i] > i:\n",
    "            k.append(1) #k[i] = 1 if c[i] > i\n",
    "        elif c[i] == i:\n",
    "            k.append(0) #k[i] = 0 if c[i] = i\n",
    "        else:\n",
    "            k.append(-1) #k[i] = -1 if c[i] < i\n",
    "    return k\n",
    "\n",
    "l1 = [1, 2, 0, 4, 2, 1, 40, -5]\n",
    "l2 = [0, 3, 2, 1, 32, 3, 4, 0]\n",
    "\n",
    "print(largerIndex(l1)) #call the fnct with l1 as input and outputs the new list\n",
    "print(largerIndex(l2)) #call the fnct with 12 as input and outputs the new list"
   ]
  },
  {
   "cell_type": "markdown",
   "id": "26988db5",
   "metadata": {},
   "source": [
    "## Question 2\n",
    "Write a function $\\mathtt{squareUpTo}(n)$ that takes as input a positive integer $n$, and returns a list of all the square numbers\n",
    "up to (and possibly including) $n$."
   ]
  },
  {
   "cell_type": "markdown",
   "id": "454df099",
   "metadata": {},
   "source": [
    "*Sample test cases*:\n",
    "\n",
    "$\\mathtt{squareUpTo}(10)$ should return $[0, 1, 4, 9].$\n",
    "\n",
    "$\\mathtt{squareUpTo}(100)$ should return $[0, 1, 4, 9, 16, 25, 36, 49, 64, 81, 100]$."
   ]
  },
  {
   "cell_type": "code",
   "execution_count": 16,
   "id": "42e77179",
   "metadata": {},
   "outputs": [
    {
     "name": "stdout",
     "output_type": "stream",
     "text": [
      "[0, 1, 4, 9]\n",
      "[0, 1, 4, 9, 16, 25, 36, 49, 64, 81, 100]\n",
      "[0, 1, 4, 9]\n",
      "[0, 1, 4, 9, 16, 25, 36, 49, 64, 81, 100]\n"
     ]
    },
    {
     "name": "stdin",
     "output_type": "stream",
     "text": [
      "Enter a positive integer:  10\n",
      "Enter a positive integer:  100\n"
     ]
    },
    {
     "name": "stdout",
     "output_type": "stream",
     "text": [
      "[0, 1, 4, 9]\n",
      "[0, 1, 4, 9, 16, 25, 36, 49, 64, 81, 100]\n"
     ]
    }
   ],
   "source": [
    "#Version 1 by mapping\n",
    "n1 = list(range(4))\n",
    "n2 = list(range(11))\n",
    "m1 = map(lambda squareUpTo: squareUpTo**2, n1)\n",
    "m2 = map(lambda squareUpTo: squareUpTo**2, n2)\n",
    "print(list(m1))\n",
    "print(list(m2))\n",
    "\n",
    "#Version 2 by passing an integer to the fnct. \n",
    "def squareUpTo(n):\n",
    "    squaredList = [] #init. empty list\n",
    "    for i in range(0, n+1): #iter. through the range of n, starting at 0 up to and including n\n",
    "        originalList = i**2 #square each integer\n",
    "        if originalList <= n:\n",
    "            squaredList.append(originalList)\n",
    "        else:\n",
    "            break\n",
    "    return squaredList\n",
    "print (squareUpTo(10)) #call the fnct. and output the list of squared integers up to n = 10\n",
    "print (squareUpTo(100)) #call the fnct. and output the list of squared integers up to n = 100\n",
    "\n",
    "#Version 3 by getting an integer from the user\n",
    "def squareUpTo(n):\n",
    "    squaredList = [] #init. empty list\n",
    "    for i in range(0, n+1): #iter. through the range of n, starting at 0 up to and including n\n",
    "        originalList = i**2 #square each integer\n",
    "        if originalList <=n:\n",
    "            squaredList.append(originalList) #append each squared integer to the list\n",
    "        else:\n",
    "            break\n",
    "    return squaredList\n",
    "n = int(input('Enter a positive integer: ')) #get user input\n",
    "n1 = int(input('Enter a positive integer: ')) #get user input\n",
    "print (squareUpTo(n)) #output the list of squared integers\n",
    "print (squareUpTo(n1)) #output the list of squared integers"
   ]
  },
  {
   "cell_type": "markdown",
   "id": "93113a94",
   "metadata": {},
   "source": [
    "## Question 3\n",
    "Write a function $\\mathtt{flip1in3}()$ that uses only \"fair coins\" to generate a \"biased coin\" with success probability $\\frac{1}{3}$. That is, this function returns **False** with probability $\\frac{2}{3}$ and returns **True** with probability $\\frac{1}{3}$. To simulate a \"fair coin\", use $\\mathtt{random.randint(0,1)}$.\n",
    "\n",
    "Check https://en.wikipedia.org/wiki/Fair_coin for the terms \"fair coin\" and \"biased coin\" if you are not familiar with the terms."
   ]
  },
  {
   "cell_type": "code",
   "execution_count": 25,
   "id": "67101e6e",
   "metadata": {},
   "outputs": [
    {
     "name": "stdout",
     "output_type": "stream",
     "text": [
      "True\n"
     ]
    }
   ],
   "source": [
    "import random\n",
    "\n",
    "def flip1in3():\n",
    "    coinToss = random.randint(1,3) #get and store a random number between 1 and 3\n",
    "    #print (coinToss)\n",
    "    \n",
    "    if coinToss == 1: #if the random integer is 1 return True (1/3 probability)\n",
    "        #print('1/3 Probability / True')\n",
    "        return True\n",
    "    else: #if the random integer is 2 or 3 return False (2/3 probability)\n",
    "        #print('2/3 Probability / False')\n",
    "        return False\n",
    "\n",
    "#outcome = flip1in3()\n",
    "print (flip1in3()) #call the fnct. and output the probability boolean value"
   ]
  },
  {
   "cell_type": "markdown",
   "id": "c1212739",
   "metadata": {},
   "source": [
    "## Question 4\n",
    "\n",
    "Write a function $\\mathtt{duplicates}(c)$ that takes as input a list $c$ of integers. Some elements appear twice and others appear once. The function outputs all the elements as a list that appear twice in the list $c$. The elements in the output should preserve the original order.\n"
   ]
  },
  {
   "cell_type": "markdown",
   "id": "f77ed429",
   "metadata": {},
   "source": [
    "*Sample test cases*:\n",
    "\n",
    "$l3 = [1,2,5,3,6,2,4,5]$\n",
    "\n",
    "$l4 = [1,3,5,5,1,4,3]$\n",
    "\n",
    "$\\mathtt{duplicates}(l3)$ should return $[2,5]$.\n",
    "\n",
    "$\\mathtt{duplicates}(l4)$ should return $[1,3,5]$."
   ]
  },
  {
   "cell_type": "code",
   "execution_count": 31,
   "id": "12907ab7",
   "metadata": {},
   "outputs": [
    {
     "name": "stdout",
     "output_type": "stream",
     "text": [
      "[2, 5]\n",
      "[1, 3, 5]\n"
     ]
    }
   ],
   "source": [
    "def duplicates(c):\n",
    "    duplicatedNumbers = [] #init. empty list\n",
    "    for i in range(len(c)): #iter. through the length of list c\n",
    "        \n",
    "        #if an integer in the list is duplicated (count > 1) and it is not already in the duplicatedNumbers list, append the integer to the list\n",
    "        if c.count(i) > 1 and i not in duplicatedNumbers:\n",
    "            duplicatedNumbers.append(i)\n",
    "    return duplicatedNumbers\n",
    "\n",
    "l3 = [1,2,5,3,6,2,4,5]\n",
    "l4 = [1,3,5,5,1,4,3]\n",
    "\n",
    "print (duplicates(l3)) #call the fnct. and output the duplicated integers in the list\n",
    "print (duplicates(l4)) #call the fnct. and output the duplicated integers in the list"
   ]
  }
 ],
 "metadata": {
  "kernelspec": {
   "display_name": "Python 3 (ipykernel)",
   "language": "python",
   "name": "python3"
  },
  "language_info": {
   "codemirror_mode": {
    "name": "ipython",
    "version": 3
   },
   "file_extension": ".py",
   "mimetype": "text/x-python",
   "name": "python",
   "nbconvert_exporter": "python",
   "pygments_lexer": "ipython3",
   "version": "3.12.3"
  }
 },
 "nbformat": 4,
 "nbformat_minor": 5
}
