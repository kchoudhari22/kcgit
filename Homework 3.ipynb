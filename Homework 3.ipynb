{
 "cells": [
  {
   "cell_type": "markdown",
   "id": "724fd47d",
   "metadata": {},
   "source": [
    "### STA 4724: Homework 3 - Due Friday, Oct. 18 \n",
    "**Instructions**: Finish the assignment by directly answering the question or finishing the code in this Jupyter notebook. \n",
    "\n",
    "After you finish, submit the saved notebook to webcourses."
   ]
  },
  {
   "cell_type": "markdown",
   "id": "b28770c6",
   "metadata": {},
   "source": [
    "**Your name:** Katelyn Choudhari             \n",
    "\n",
    "**Your ID:** 5368756"
   ]
  },
  {
   "cell_type": "markdown",
   "id": "4e1f7ada",
   "metadata": {},
   "source": [
    "## Question 1: kNN\n",
    "For the *yeast* dataset, we want to predicte the compartment in a cell that a yeast protein will localize to based on properties of its sequence.\n",
    "\n",
    "**(a)** Read the training and testing datasets."
   ]
  },
  {
   "cell_type": "code",
   "execution_count": 15,
   "id": "f4c42d46",
   "metadata": {},
   "outputs": [
    {
     "name": "stdout",
     "output_type": "stream",
     "text": [
      "   id    f0    f1    f2    f3   f4   f5    f6    f7 class\n",
      "0   1  0.58  0.61  0.47  0.13  0.5  0.0  0.48  0.22   MIT\n",
      "1   2  0.43  0.67  0.48  0.27  0.5  0.0  0.53  0.22   MIT\n",
      "2   3  0.64  0.62  0.49  0.15  0.5  0.0  0.53  0.22   MIT\n",
      "3   4  0.58  0.44  0.57  0.13  0.5  0.0  0.54  0.22   NUC\n",
      "4   5  0.42  0.44  0.48  0.54  0.5  0.0  0.48  0.22   MIT\n",
      "   id    f0    f1    f2    f3   f4   f5    f6    f7 class\n",
      "0   1  0.51  0.40  0.56  0.17  0.5  0.5  0.49  0.22   CYT\n",
      "1   2  0.40  0.42  0.57  0.35  0.5  0.0  0.53  0.25   CYT\n",
      "2   3  0.58  0.47  0.54  0.11  0.5  0.0  0.51  0.26   NUC\n",
      "3   4  0.50  0.34  0.55  0.21  0.5  0.0  0.49  0.22   NUC\n",
      "4   5  0.61  0.60  0.55  0.21  0.5  0.0  0.50  0.25   NUC\n"
     ]
    }
   ],
   "source": [
    "import pandas as pd\n",
    "import numpy as np\n",
    "\n",
    "# open and read the csv file with pandas\n",
    "yeastTrain = pd.read_csv('yeast_train.csv')\n",
    "yeastTest = pd.read_csv('yeast_test.csv')\n",
    "\n",
    "# make the features and labels for training\n",
    "XTrain = yeastTrain.iloc[:, :-1].values  # features\n",
    "YTrain = yeastTrain.iloc[:, -1].values   # labels\n",
    "\n",
    "# make the features and labels for testing\n",
    "XTest = yeastTest.iloc[:, :-1].values  # features\n",
    "YTest = yeastTest.iloc[:, -1].values   # labels\n",
    "\n",
    "# # print the first few rows of the csv table to check file can be opened and read\n",
    "print(yeastTrain.head())\n",
    "print(yeastTest.head())"
   ]
  },
  {
   "cell_type": "markdown",
   "id": "44e13f10",
   "metadata": {},
   "source": [
    "**(b)** Use leave-one-out cross validation to select the value of $k$ for kNN model.\n",
    "\n",
    "Hint 1: try to apply kNN with a fixed $k$ first, then figure out how to use cross validation. In *yeast_3.txt*, I list the result when $k=3$ and you can use it as a reference.\n",
    "\n",
    "Hint 2: Some of the $k$ values are not suitable to be the \"best\". You shouldn't even test them in the cross validation."
   ]
  },
  {
   "cell_type": "code",
   "execution_count": 18,
   "id": "eff21a0d",
   "metadata": {},
   "outputs": [
    {
     "name": "stdout",
     "output_type": "stream",
     "text": [
      "Best k value based on LOOCV: 11\n"
     ]
    }
   ],
   "source": [
    "from sklearn.model_selection import LeaveOneOut\n",
    "from sklearn.neighbors import KNeighborsClassifier\n",
    "from sklearn.preprocessing import StandardScaler\n",
    "from sklearn.pipeline import Pipeline\n",
    "\n",
    "# Manually set the range of k values to test\n",
    "bestK = None  # Placeholder for the best k value after LOOCV\n",
    "\n",
    "# scale the training data, apply kNN\n",
    "pipeline = Pipeline([\n",
    "    ('scaler', StandardScaler()),\n",
    "    ('knn', KNeighborsClassifier())\n",
    "])\n",
    "\n",
    "# leave-one-out CV (LOOCV) to select the best k\n",
    "loo = LeaveOneOut()\n",
    "\n",
    "# loop through different k values to find the best one using LOOCV\n",
    "bestAccuracy = 0\n",
    "\n",
    "for k in range(1, 21, 2):  # loop through odd k values\n",
    "    pipeline.set_params(knn__n_neighbors = k)  # set the current k value\n",
    "    accuracySum = 0\n",
    "    for trainIdx, testIdx in loo.split(XTrain):\n",
    "        pipeline.fit(XTrain[trainIdx], YTrain[trainIdx])\n",
    "        accuracySum += pipeline.score(XTrain[testIdx], YTrain[testIdx])\n",
    "    avgAccuracy = accuracySum / len(XTrain)\n",
    "    \n",
    "    if avgAccuracy > bestAccuracy:\n",
    "        bestAccuracy = avgAccuracy\n",
    "        bestK = k\n",
    "\n",
    "print(f'Best k value based on LOOCV: {bestK}')"
   ]
  },
  {
   "cell_type": "markdown",
   "id": "83adb660",
   "metadata": {},
   "source": [
    "**(c)** Train the kNN model with the best $k$, and use it to predicte the testing data."
   ]
  },
  {
   "cell_type": "code",
   "execution_count": 21,
   "id": "58827880",
   "metadata": {},
   "outputs": [
    {
     "name": "stdout",
     "output_type": "stream",
     "text": [
      "Predicted values: ['POX' 'CYT' 'CYT' 'NUC' 'CYT' 'EXC' 'CYT' 'CYT' 'MIT' 'ME1' 'EXC' 'MIT'\n",
      " 'CYT' 'ME1' 'CYT' 'CYT' 'CYT' 'MIT' 'MIT' 'NUC' 'CYT' 'CYT' 'CYT' 'ME1'\n",
      " 'MIT' 'CYT' 'MIT' 'POX' 'ME3' 'MIT' 'ME1' 'ME3' 'CYT' 'CYT' 'CYT' 'POX'\n",
      " 'NUC' 'MIT' 'CYT' 'MIT' 'ME3' 'NUC' 'NUC' 'CYT' 'CYT' 'CYT' 'MIT' 'NUC'\n",
      " 'NUC' 'NUC' 'NUC' 'CYT' 'CYT' 'MIT' 'CYT' 'MIT' 'POX' 'NUC' 'CYT' 'ME1'\n",
      " 'MIT' 'MIT' 'MIT' 'ME3' 'MIT' 'MIT' 'MIT' 'CYT' 'CYT' 'CYT' 'EXC' 'CYT'\n",
      " 'CYT' 'MIT' 'CYT' 'MIT' 'EXC' 'EXC' 'CYT' 'CYT' 'NUC' 'CYT' 'ME3' 'POX'\n",
      " 'CYT' 'NUC' 'CYT' 'NUC' 'MIT' 'CYT' 'CYT' 'CYT' 'NUC' 'CYT' 'ME3' 'CYT'\n",
      " 'CYT' 'ME2' 'CYT' 'CYT' 'CYT' 'CYT' 'NUC' 'EXC' 'ERL' 'CYT' 'CYT' 'ME3'\n",
      " 'ME3' 'POX' 'ME3' 'ME1' 'ME1' 'CYT' 'ME3' 'ME3' 'MIT' 'CYT' 'NUC' 'CYT'\n",
      " 'CYT' 'ME3' 'CYT' 'CYT' 'ME3' 'NUC' 'NUC' 'NUC' 'ME3' 'CYT' 'CYT' 'NUC'\n",
      " 'CYT' 'CYT' 'NUC' 'NUC' 'MIT' 'NUC' 'CYT' 'CYT' 'NUC' 'MIT' 'NUC' 'CYT'\n",
      " 'NUC' 'NUC' 'MIT' 'MIT' 'ME3' 'NUC' 'CYT' 'NUC' 'MIT' 'MIT' 'MIT' 'NUC'\n",
      " 'CYT' 'ME3' 'ME3' 'NUC' 'MIT' 'MIT' 'CYT' 'MIT' 'CYT' 'CYT' 'ME1' 'ME3'\n",
      " 'NUC' 'MIT' 'EXC' 'NUC' 'ERL' 'MIT' 'ME3' 'MIT' 'ME2' 'CYT' 'CYT' 'CYT'\n",
      " 'ME3' 'ME3' 'NUC' 'CYT' 'CYT' 'NUC' 'ME3' 'ME2' 'CYT' 'MIT' 'CYT' 'MIT'\n",
      " 'MIT' 'CYT' 'CYT' 'MIT' 'ME3' 'NUC' 'NUC' 'MIT' 'CYT' 'CYT' 'NUC' 'NUC'\n",
      " 'MIT' 'MIT' 'ME3' 'MIT' 'CYT' 'NUC' 'MIT' 'MIT' 'MIT' 'CYT' 'MIT' 'CYT'\n",
      " 'NUC' 'MIT' 'CYT' 'CYT' 'ME3' 'NUC' 'CYT' 'CYT' 'ME3' 'MIT' 'NUC' 'ME3'\n",
      " 'CYT' 'MIT' 'NUC' 'CYT' 'EXC' 'NUC' 'MIT' 'ME3' 'ME1' 'CYT' 'CYT' 'CYT'\n",
      " 'MIT' 'CYT' 'CYT' 'CYT' 'NUC' 'ME3' 'CYT' 'CYT' 'CYT' 'MIT' 'NUC' 'POX'\n",
      " 'MIT' 'CYT' 'EXC' 'CYT' 'CYT' 'NUC' 'CYT' 'EXC' 'ME1' 'ME3' 'CYT' 'NUC'\n",
      " 'CYT' 'CYT' 'ME3' 'CYT' 'MIT' 'MIT' 'CYT' 'CYT' 'CYT' 'MIT' 'NUC' 'CYT'\n",
      " 'NUC' 'CYT' 'CYT' 'CYT' 'MIT' 'MIT' 'NUC' 'CYT' 'NUC' 'CYT' 'MIT' 'CYT'\n",
      " 'NUC' 'NUC' 'MIT' 'NUC' 'NUC' 'MIT' 'CYT' 'NUC' 'MIT' 'CYT' 'CYT' 'NUC'\n",
      " 'NUC' 'MIT' 'CYT' 'CYT' 'CYT' 'CYT' 'CYT' 'CYT' 'NUC' 'CYT' 'CYT' 'CYT'\n",
      " 'CYT' 'CYT' 'NUC' 'MIT' 'CYT' 'CYT' 'MIT' 'CYT' 'MIT' 'NUC' 'CYT' 'CYT'\n",
      " 'NUC' 'NUC' 'MIT' 'MIT' 'CYT' 'MIT' 'MIT' 'MIT' 'EXC' 'CYT' 'NUC' 'CYT'\n",
      " 'CYT' 'CYT' 'MIT' 'ME3' 'ME3' 'NUC' 'EXC' 'NUC' 'MIT' 'MIT' 'NUC' 'NUC'\n",
      " 'CYT' 'ME3' 'CYT' 'NUC' 'NUC' 'ME3' 'CYT' 'NUC' 'MIT' 'ME3' 'CYT' 'CYT'\n",
      " 'ME3' 'MIT' 'CYT' 'NUC' 'CYT' 'CYT' 'MIT' 'CYT' 'CYT' 'NUC' 'CYT' 'MIT'\n",
      " 'NUC' 'NUC' 'CYT' 'CYT' 'EXC' 'ME3' 'ME1' 'CYT' 'MIT' 'NUC' 'NUC' 'EXC'\n",
      " 'NUC' 'CYT' 'CYT' 'MIT' 'MIT' 'CYT' 'CYT' 'CYT' 'NUC' 'CYT' 'NUC' 'CYT'\n",
      " 'MIT' 'NUC' 'NUC' 'NUC' 'NUC' 'CYT' 'ME1' 'ME1' 'CYT' 'NUC' 'CYT' 'CYT'\n",
      " 'NUC' 'CYT' 'CYT' 'NUC' 'CYT' 'CYT' 'CYT' 'CYT' 'ME3' 'CYT' 'NUC' 'CYT'\n",
      " 'MIT' 'CYT' 'ME1' 'NUC' 'ME1' 'CYT' 'ME3' 'POX' 'ME3' 'ME3' 'NUC' 'ME3'\n",
      " 'ME3' 'ME3' 'ME3' 'MIT' 'CYT' 'ME3' 'MIT' 'NUC' 'CYT' 'CYT' 'NUC' 'CYT'\n",
      " 'ME2']\n"
     ]
    }
   ],
   "source": [
    "from sklearn.pipeline import Pipeline\n",
    "from sklearn.neighbors import KNeighborsClassifier\n",
    "from sklearn.preprocessing import StandardScaler\n",
    "\n",
    "# train the model with the best k value\n",
    "pipeline = Pipeline([\n",
    "    ('scaler', StandardScaler()),\n",
    "    ('knn', KNeighborsClassifier(n_neighbors = bestK))\n",
    "])\n",
    "\n",
    "# train the model on the entire training set\n",
    "pipeline.fit(XTrain, YTrain)\n",
    "\n",
    "# predict the test set results\n",
    "yPred = pipeline.predict(XTest)\n",
    "\n",
    "# print the predicted values for the test set\n",
    "print('Predicted values:', yPred)"
   ]
  },
  {
   "cell_type": "markdown",
   "id": "5b680919",
   "metadata": {},
   "source": [
    "**(d)** Print the confusion matrix, then manually compute the accuracy based on the confusion matrix. That is, don't call any built-in function for the accuracy, but type the equation you will use for calculating the accuracy."
   ]
  },
  {
   "cell_type": "code",
   "execution_count": 26,
   "id": "9f97d5e6",
   "metadata": {},
   "outputs": [
    {
     "name": "stdout",
     "output_type": "stream",
     "text": [
      "Confusion Matrix:\n",
      "[[88  2  1  0  0  2 16 28  1  0]\n",
      " [ 0  0  0  0  0  0  0  0  0  0]\n",
      " [ 1  0  8  1  0  0  0  0  0  0]\n",
      " [ 0  0  4  9  0  0  1  0  0  0]\n",
      " [ 5  0  0  3  3  2  4  1  0  0]\n",
      " [ 4  0  0  0  0 38  2  3  0  0]\n",
      " [18  0  0  2  1  2 48  8  2  0]\n",
      " [53  0  1  0  0  3 13 53  0  0]\n",
      " [ 1  0  0  0  0  0  1  1  5  0]\n",
      " [ 5  0  0  0  0  0  1  0  0  0]]\n",
      "Accuracy: 56.63%\n"
     ]
    }
   ],
   "source": [
    "from sklearn.metrics import confusion_matrix\n",
    "import numpy as np\n",
    "\n",
    "# confusion matrix\n",
    "confusionMatrix = confusion_matrix(YTest, yPred)\n",
    "print('Confusion Matrix:')\n",
    "print(confusionMatrix)\n",
    "\n",
    "# calculate accuracy based on the confusion matrix\n",
    "correctPredictions = np.trace(confusionMatrix)\n",
    "totalPredictions = np.sum(confusionMatrix)\n",
    "\n",
    "# calculate accuracy\n",
    "manualAccuracy = correctPredictions / totalPredictions\n",
    "print(f'Accuracy: {manualAccuracy * 100:.2f}%')"
   ]
  },
  {
   "cell_type": "markdown",
   "id": "26988db5",
   "metadata": {},
   "source": [
    "## Question 2: Logistic Regression\n",
    "\n",
    "We study the *myopia* dataset in this problem.\n",
    "\n",
    "**(a)** Read the data file and make a scatterplot of MYOPIA vs. SPHEQ."
   ]
  },
  {
   "cell_type": "code",
   "execution_count": 29,
   "id": "42e77179",
   "metadata": {},
   "outputs": [
    {
     "name": "stdout",
     "output_type": "stream",
     "text": [
      "   ID  STUDYYEAR  MYOPIC  AGE  GENDER  SPHEQ         AL    ACD     LT    VCD  \\\n",
      "0   1       1992       1    6       1 -0.052  21.889999  3.690  3.498  14.70   \n",
      "1   2       1995       0    6       1  0.608  22.379999  3.702  3.392  15.29   \n",
      "2   3       1991       0    6       1  1.179  22.490000  3.462  3.514  15.52   \n",
      "3   4       1990       1    6       1  0.525  22.200001  3.862  3.612  14.73   \n",
      "4   5       1995       0    5       0  0.697  23.290001  3.676  3.454  16.16   \n",
      "\n",
      "   SPORTHR  READHR  COMPHR  STUDYHR  TVHR  DIOPTERHR  MOMMY  DADMY  \n",
      "0       45       8       0        0    10         34      1      1  \n",
      "1        4       0       1        1     7         12      1      1  \n",
      "2       14       0       2        0    10         14      0      0  \n",
      "3       18      11       0        0     4         37      0      1  \n",
      "4       14       0       0        0     4          4      1      0  \n"
     ]
    },
    {
     "data": {
      "image/png": "[encoded data removed]",
      "text/plain": [
       "<Figure size 640x480 with 1 Axes>"
      ]
     },
     "metadata": {},
     "output_type": "display_data"
    }
   ],
   "source": [
    "import pandas as pd\n",
    "import matplotlib.pyplot as plt\n",
    "\n",
    "# open and read the csv file with pandas\n",
    "myopiaData = pd.read_csv('myopia.csv')\n",
    "\n",
    "print(myopiaData.head())\n",
    "\n",
    "# scatterplot\n",
    "plt.scatter(myopiaData['SPHEQ'], myopiaData['MYOPIC'])\n",
    "plt.xlabel('SPHEQ')\n",
    "plt.ylabel('MYOPIA')\n",
    "plt.title('Scatterplot of MYOPIA vs SPHEQ')\n",
    "plt.show()"
   ]
  },
  {
   "cell_type": "markdown",
   "id": "93113a94",
   "metadata": {},
   "source": [
    "**(b)** Fit the logistic regression model of SPHEQ on MYOPIA"
   ]
  },
  {
   "cell_type": "code",
   "execution_count": 32,
   "id": "67101e6e",
   "metadata": {},
   "outputs": [
    {
     "name": "stdout",
     "output_type": "stream",
     "text": [
      "Optimization terminated successfully.\n",
      "         Current function value: 0.272933\n",
      "         Iterations 8\n",
      "                           Logit Regression Results                           \n",
      "==============================================================================\n",
      "Dep. Variable:                 MYOPIC   No. Observations:                  618\n",
      "Model:                          Logit   Df Residuals:                      616\n",
      "Method:                           MLE   Df Model:                            1\n",
      "Date:                Sun, 27 Oct 2024   Pseudo R-squ.:                  0.2973\n",
      "Time:                        23:37:14   Log-Likelihood:                -168.67\n",
      "converged:                       True   LL-Null:                       -240.04\n",
      "Covariance Type:            nonrobust   LLR p-value:                 6.727e-33\n",
      "==============================================================================\n",
      "                 coef    std err          z      P>|z|      [0.025      0.975]\n",
      "------------------------------------------------------------------------------\n",
      "const          0.0540      0.207      0.261      0.794      -0.351       0.459\n",
      "SPHEQ         -3.8331      0.418     -9.162      0.000      -4.653      -3.013\n",
      "==============================================================================\n"
     ]
    }
   ],
   "source": [
    "import statsmodels.api as sm\n",
    "\n",
    "X = myopiaData['SPHEQ']\n",
    "X = sm.add_constant(X)  # adds a constant term to the predictor\n",
    "Y = myopiaData['MYOPIC']\n",
    "\n",
    "# fit the logistic regression model\n",
    "logitModel = sm.Logit(Y, X)\n",
    "result = logitModel.fit()\n",
    "\n",
    "# print the summary of the logistic regression\n",
    "print(result.summary())"
   ]
  },
  {
   "attachments": {
    "image.png": {
     "image/png": "[encoded data removed]"
    }
   },
   "cell_type": "markdown",
   "id": "5e28b6f2",
   "metadata": {},
   "source": [
    "**(c)** Plot the logistic function found in (b) together with the scatterplot. You are looking for something like \n",
    "\n",
    "![image.png](attachment:image.png)\n",
    "\n",
    "Hint: Although we didn't make this logistic function plot in class, the idea behind it is similar to the linear function plot in the earlier lecture. "
   ]
  },
  {
   "cell_type": "code",
   "execution_count": 35,
   "id": "d78abf2c",
   "metadata": {},
   "outputs": [
    {
     "data": {
      "image/png": "[encoded data removed]",
      "text/plain": [
       "<Figure size 640x480 with 1 Axes>"
      ]
     },
     "metadata": {},
     "output_type": "display_data"
    }
   ],
   "source": [
    "import numpy as np\n",
    "\n",
    "# scatterplot\n",
    "plt.scatter(myopiaData['SPHEQ'], myopiaData['MYOPIC'], label = 'Data')\n",
    "\n",
    "# generate SPHEQ values for the logistic function\n",
    "spheqValues = np.linspace(min(myopiaData['SPHEQ']), max(myopiaData['SPHEQ']), 300)\n",
    "spheqValuesWithConstant = sm.add_constant(spheqValues)\n",
    "\n",
    "# predict the logistic function values\n",
    "logitPred = result.predict(spheqValuesWithConstant)\n",
    "\n",
    "# plot the logistic function\n",
    "plt.plot(spheqValues, logitPred, color = 'blue', label = 'Logistic Function')\n",
    "plt.xlabel('SPHEQ')\n",
    "plt.ylabel('MYOPIA')\n",
    "plt.legend()\n",
    "plt.title('Logistic Regression: MYOPIA vs SPHEQ')\n",
    "plt.show()"
   ]
  },
  {
   "cell_type": "markdown",
   "id": "23e96586",
   "metadata": {},
   "source": [
    "## Question 3: Naive Bayes\n",
    "We have the *vote* datasets collected from 1984 United States Congressional Voting Records.\n",
    "\n",
    "**(a)** Read the training and testing data file, and make any necessary preprocess so the data is ready to be used by naive bayes.\n",
    "\n",
    "Hint: computer cannot read 'y/n' just like it cannot read tweets directly."
   ]
  },
  {
   "cell_type": "code",
   "execution_count": 38,
   "id": "c56c98bf",
   "metadata": {},
   "outputs": [
    {
     "name": "stdout",
     "output_type": "stream",
     "text": [
      "id                                         int64\n",
      "handicapped-infants                       object\n",
      "water-project-cost-sharing                object\n",
      "adoption-of-the-budget-resolution         object\n",
      "physician-fee-freeze                      object\n",
      "el-salvador-aid                           object\n",
      "religious-groups-in-schools               object\n",
      "anti-satellite-test-ban                   object\n",
      "aid-to-nicaraguan-contras                 object\n",
      "mx-missile                                object\n",
      "immigration                               object\n",
      "synfuels-corporation-cutback              object\n",
      "education-spending                        object\n",
      "superfund-right-to-sue                    object\n",
      "crime                                     object\n",
      "duty-free-exports                         object\n",
      "export-administration-act-south-africa    object\n",
      "class                                      int64\n",
      "dtype: object\n",
      "   id handicapped-infants water-project-cost-sharing  \\\n",
      "0   1                   0                          1   \n",
      "1   2                   0                          1   \n",
      "2   3                   0                          1   \n",
      "3   4                   0                          1   \n",
      "4   5                   1                          1   \n",
      "\n",
      "  adoption-of-the-budget-resolution physician-fee-freeze el-salvador-aid  \\\n",
      "0                                 0                    1               1   \n",
      "1                                 0                    1               1   \n",
      "2                                 1                    0               1   \n",
      "3                                 1                    0               0   \n",
      "4                                 1                    0               1   \n",
      "\n",
      "  religious-groups-in-schools anti-satellite-test-ban  \\\n",
      "0                           1                       0   \n",
      "1                           1                       0   \n",
      "2                           1                       0   \n",
      "3                           1                       0   \n",
      "4                           1                       0   \n",
      "\n",
      "  aid-to-nicaraguan-contras mx-missile immigration  \\\n",
      "0                         0          0           1   \n",
      "1                         0          0           0   \n",
      "2                         0          0           0   \n",
      "3                         0          0           0   \n",
      "4                         0          0           0   \n",
      "\n",
      "  synfuels-corporation-cutback education-spending superfund-right-to-sue  \\\n",
      "0                            0                  1                      1   \n",
      "1                            0                  1                      1   \n",
      "2                            1                  0                      1   \n",
      "3                            1                  0                      1   \n",
      "4                            1                  0                      1   \n",
      "\n",
      "  crime duty-free-exports export-administration-act-south-africa  class  \n",
      "0     1                 0                                      1      0  \n",
      "1     1                 0                                      0      0  \n",
      "2     1                 0                                      0      1  \n",
      "3     0                 0                                      1      1  \n",
      "4     1                 1                                      1      1  \n",
      "   id handicapped-infants water-project-cost-sharing  \\\n",
      "0   1                   0                          0   \n",
      "1   2                   1                          1   \n",
      "2   3                   1                          1   \n",
      "3   4                   1                          1   \n",
      "4   5                   1                          1   \n",
      "\n",
      "  adoption-of-the-budget-resolution physician-fee-freeze el-salvador-aid  \\\n",
      "0                                 0                    1               1   \n",
      "1                                 1                    0               0   \n",
      "2                                 1                    0               1   \n",
      "3                                 0                    1               1   \n",
      "4                                 1                    0               1   \n",
      "\n",
      "  religious-groups-in-schools anti-satellite-test-ban  \\\n",
      "0                           1                       0   \n",
      "1                           1                       0   \n",
      "2                           1                       1   \n",
      "3                           1                       0   \n",
      "4                           1                       0   \n",
      "\n",
      "  aid-to-nicaraguan-contras mx-missile immigration  \\\n",
      "0                         0          0           0   \n",
      "1                         1          1           0   \n",
      "2                         1          1           1   \n",
      "3                         0          0           0   \n",
      "4                         1          1           1   \n",
      "\n",
      "  synfuels-corporation-cutback education-spending superfund-right-to-sue  \\\n",
      "0                            0                  1                      1   \n",
      "1                            1                  0                      1   \n",
      "2                            1                  0                      1   \n",
      "3                            1                  0                      1   \n",
      "4                            1                  0                      0   \n",
      "\n",
      "  crime duty-free-exports export-administration-act-south-africa  class  \n",
      "0     1                 0                                      1      0  \n",
      "1     0                 1                                      1      1  \n",
      "2     1                 0                                      0      1  \n",
      "3     1                 0                                      0      1  \n",
      "4     0                 0                                      1      1  \n"
     ]
    }
   ],
   "source": [
    "import pandas as pd\n",
    "\n",
    "#suppress warning\n",
    "pd.set_option('future.no_silent_downcasting', True)\n",
    "\n",
    "# open and read the csv file with pandas\n",
    "trainDF = pd.read_csv('vote_train.csv')\n",
    "testDF = pd.read_csv('vote_test.csv')\n",
    "\n",
    "# remove quotation marks from column names\n",
    "trainDF.columns = trainDF.columns.str.replace(\"'\", \"\").str.strip()\n",
    "testDF.columns = testDF.columns.str.replace(\"'\", \"\").str.strip()\n",
    "\n",
    "# replace 'y' with 1 and 'n' with 0 in both training and testing data\n",
    "trainDF.replace({'y': 1, 'n': 0}, inplace = True)\n",
    "testDF.replace({'y': 1, 'n': 0}, inplace = True)\n",
    "\n",
    "# convert 'class' column to numeric (0 for republican, 1 for democrat)\n",
    "trainDF['class'] = trainDF['class'].map({'republican': 0, 'democrat': 1})\n",
    "testDF['class'] = testDF['class'].map({'republican': 0, 'democrat': 1})\n",
    "\n",
    "# check if any non-numeric columns remain\n",
    "print(trainDF.dtypes)\n",
    "\n",
    "# convert only numeric columns (excluding 'class') to integers\n",
    "trainDF.iloc[:, :-1] = trainDF.iloc[:, :-1].astype(int)\n",
    "testDF.iloc[:, :-1] = testDF.iloc[:, :-1].astype(int)\n",
    "\n",
    "# output to verify\n",
    "print(trainDF.head())\n",
    "print(testDF.head())"
   ]
  },
  {
   "cell_type": "markdown",
   "id": "f3251080",
   "metadata": {},
   "source": [
    "**(b)** Train the bayes model and use it to predict the voting result on the testing data."
   ]
  },
  {
   "cell_type": "code",
   "execution_count": 41,
   "id": "8627e273",
   "metadata": {},
   "outputs": [
    {
     "name": "stdout",
     "output_type": "stream",
     "text": [
      "[0 1 1 0 1 0 1 1 1 0 1 1 1 0 1 1 1 1 1 1 0 0 0 1 0 0 0 1 0 1 0 0 1 0 0 1 1\n",
      " 0 1 1 1 0 1 1 1 1 1 1 0 1 1 0 1 0 0 0]\n"
     ]
    }
   ],
   "source": [
    "from sklearn.naive_bayes import GaussianNB\n",
    "\n",
    "# make the features and labels for training\n",
    "XTrain = trainDF.drop(columns = ['id', 'class'])\n",
    "yTrain = trainDF['class']\n",
    "\n",
    "# make the features and labels for testing\n",
    "XTest = testDF.drop(columns = ['id', 'class'])\n",
    "yTest = testDF['class']\n",
    "\n",
    "# train the Naive Bayes classifier\n",
    "nbModel = GaussianNB()\n",
    "nbModel.fit(XTrain, yTrain)\n",
    "\n",
    "# predict the class probabilities for the test data\n",
    "yProb = nbModel.predict_proba(XTest)[:, 1]\n",
    "\n",
    "# predict the classes\n",
    "yPred = nbModel.predict(XTest)\n",
    "\n",
    "# output predictions\n",
    "print(yPred)"
   ]
  },
  {
   "cell_type": "markdown",
   "id": "45d09d99",
   "metadata": {},
   "source": [
    "**(c)** Plot the ROC curve and report AUC."
   ]
  },
  {
   "cell_type": "code",
   "execution_count": 44,
   "id": "12015565",
   "metadata": {},
   "outputs": [
    {
     "data": {
      "image/png": "[encoded data removed]",
      "text/plain": [
       "<Figure size 640x480 with 1 Axes>"
      ]
     },
     "metadata": {},
     "output_type": "display_data"
    },
    {
     "name": "stdout",
     "output_type": "stream",
     "text": [
      "AUC: 0.95\n"
     ]
    }
   ],
   "source": [
    "from sklearn.metrics import roc_curve, auc\n",
    "import matplotlib.pyplot as plt\n",
    "\n",
    "# calculate ROC curve and AUC\n",
    "fpr, tpr, _ = roc_curve(yTest, yProb)\n",
    "rocAUC = auc(fpr, tpr)\n",
    "\n",
    "# plot ROC curve\n",
    "plt.figure()\n",
    "plt.plot(fpr, tpr, color = 'blue', lw = 2, label = f'ROC curve (area = {rocAUC:.2f})')\n",
    "plt.plot([0, 1], [0, 1], color = 'gray', lw = 1, linestyle = '--')\n",
    "plt.xlim([0.0, 1.0])\n",
    "plt.ylim([0.0, 1.0])\n",
    "plt.xlabel('False Positive Rate')\n",
    "plt.ylabel('True Positive Rate')\n",
    "plt.title('Receiver Operating Characteristic (ROC) Curve')\n",
    "plt.legend(loc = \"lower right\")\n",
    "plt.show()\n",
    "\n",
    "# print AUC value\n",
    "print(f\"AUC: {rocAUC:.2f}\")"
   ]
  },
  {
   "cell_type": "markdown",
   "id": "b529d327",
   "metadata": {},
   "source": [
    "**(d) Extra question, No bonus point)** Based on the data in the traning set, what's the most significant character for the republican voters? Can you write a short program to find it out? \n",
    "\n",
    "Hint: We didn't cover this in class."
   ]
  },
  {
   "cell_type": "markdown",
   "id": "21d2722e",
   "metadata": {},
   "source": [
    "**Answer:** "
   ]
  },
  {
   "cell_type": "code",
   "execution_count": 48,
   "id": "e7c7d8cd-70a8-4903-983c-493e2497c89e",
   "metadata": {},
   "outputs": [
    {
     "name": "stdout",
     "output_type": "stream",
     "text": [
      "The most significant feature for Republican voters is: physician-fee-freeze\n"
     ]
    }
   ],
   "source": [
    "import numpy as np\n",
    "\n",
    "featureimportances = np.abs(nbModel.theta_[1] - nbModel.theta_[0])\n",
    "\n",
    "# find the most significant feature\n",
    "mostSignificantFeatureIndex = np.argmax(featureimportances)\n",
    "mostSignificantFeatureName = XTrain.columns[mostSignificantFeatureIndex]\n",
    "\n",
    "print(f'The most significant feature for Republican voters is: {mostSignificantFeatureName}')"
   ]
  }
 ],
 "metadata": {
  "kernelspec": {
   "display_name": "Python 3 (ipykernel)",
   "language": "python",
   "name": "python3"
  },
  "language_info": {
   "codemirror_mode": {
    "name": "ipython",
    "version": 3
   },
   "file_extension": ".py",
   "mimetype": "text/x-python",
   "name": "python",
   "nbconvert_exporter": "python",
   "pygments_lexer": "ipython3",
   "version": "3.12.3"
  }
 },
 "nbformat": 4,
 "nbformat_minor": 5
}
