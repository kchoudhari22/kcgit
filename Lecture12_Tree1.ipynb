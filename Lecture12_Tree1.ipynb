{
 "cells": [
  {
   "cell_type": "markdown",
   "id": "de7f9edb",
   "metadata": {},
   "source": [
    "# Lecture 12: Tree1 Part 2\n",
    "Example for Hierarchical Clustering"
   ]
  },
  {
   "cell_type": "markdown",
   "id": "a50c24a2",
   "metadata": {},
   "source": [
    "We use the beloved Iris dataset again."
   ]
  },
  {
   "cell_type": "code",
   "execution_count": 3,
   "id": "e6bd7c89",
   "metadata": {},
   "outputs": [],
   "source": [
    "from sklearn.datasets import load_iris\n",
    "iris = load_iris()\n",
    "X = iris.data"
   ]
  },
  {
   "cell_type": "markdown",
   "id": "2867c8c2",
   "metadata": {},
   "source": [
    "Load the packages"
   ]
  },
  {
   "cell_type": "code",
   "execution_count": 6,
   "id": "c7126994",
   "metadata": {},
   "outputs": [],
   "source": [
    "from scipy.cluster.hierarchy import linkage\n",
    "from scipy.cluster.hierarchy import dendrogram\n",
    "from scipy.spatial.distance import pdist"
   ]
  },
  {
   "cell_type": "markdown",
   "id": "af283c79",
   "metadata": {},
   "source": [
    "The *dpist* function lets us calculate the pairwise distances between the features in our data, whereas *linkage* is used to run hierarchical clustering."
   ]
  },
  {
   "cell_type": "code",
   "execution_count": 27,
   "id": "612c636f",
   "metadata": {},
   "outputs": [],
   "source": [
    "X_dist = pdist(X)\n",
    "X_link = linkage(X, method='ward')"
   ]
  },
  {
   "cell_type": "markdown",
   "id": "9b1a3423",
   "metadata": {},
   "source": [
    "*Ward* is an algorithm that runs agglomerative clustering.\n",
    "\n",
    "We can obtain a measure of how the pairwise distances in our data compare to those implied by the hierarchical clustering. \n",
    "This is can be done with the **cophenetic coefficient**.\n",
    "\n",
    "The better the clustering preserves the original distances, then the closer this coefficient is to 1."
   ]
  },
  {
   "cell_type": "code",
   "execution_count": 12,
   "id": "c1f6ec9a",
   "metadata": {},
   "outputs": [
    {
     "name": "stdout",
     "output_type": "stream",
     "text": [
      "0.8728283153305715\n"
     ]
    }
   ],
   "source": [
    "from scipy.cluster.hierarchy import cophenet\n",
    "coph_cor, coph_dist = cophenet(X_link, X_dist)\n",
    "print(coph_cor)"
   ]
  },
  {
   "cell_type": "markdown",
   "id": "b5ef7e2e",
   "metadata": {},
   "source": [
    "It is sometimes important to know what clusters have been merged at each iteration. This information is actually contained in the matrix returned by the *linkage* function.\n",
    "\n",
    "The *i*-th entry of this matrix tells us what clusters have been merged at iteration *i* (first two numbers), as well as their distance (third number) and the number of samples contained (fourth number)."
   ]
  },
  {
   "cell_type": "code",
   "execution_count": 15,
   "id": "46ad1f28",
   "metadata": {},
   "outputs": [
    {
     "name": "stdout",
     "output_type": "stream",
     "text": [
      "[101. 142.   0.   2.]\n"
     ]
    }
   ],
   "source": [
    "print(X_link[0])"
   ]
  },
  {
   "cell_type": "markdown",
   "id": "b6778e8f",
   "metadata": {},
   "source": [
    "I got [101. 142.   0.   2.] on my machine. Note your numbers can be different than mine.\n",
    "\n",
    "That means 101th and 142th items are merged at the first iteration, and their distance is about 0."
   ]
  },
  {
   "cell_type": "markdown",
   "id": "a51cd2a4",
   "metadata": {},
   "source": [
    "Next, we want to visualize the dendrogram. \n",
    "\n",
    "we have a total of 150 samples, and showing all those branches may not be that practical. The *dendrogram* function provides us with a way to truncate the diagram. In this case, we are showing the last $p = 15$ merged clusters"
   ]
  },
  {
   "cell_type": "code",
   "execution_count": 19,
   "id": "9dbaaafc",
   "metadata": {},
   "outputs": [
    {
     "data": {
      "image/png": "[encoded data removed]",
      "text/plain": [
       "<Figure size 640x480 with 1 Axes>"
      ]
     },
     "metadata": {},
     "output_type": "display_data"
    }
   ],
   "source": [
    "import matplotlib.pyplot as plt\n",
    "dendrogram(X_link, truncate_mode = 'lastp',\\\n",
    "p=15, show_contracted = True)\n",
    "plt.show()"
   ]
  },
  {
   "cell_type": "markdown",
   "id": "3e5c8090",
   "metadata": {},
   "source": [
    "Finally, we can obtain the labels that the hierarchical clustering generates. This can be done with *fcluster*, which takes a threshold corresponding in this case to the distance where we want to truncate our dendrogram. That is, where to draw the horizontal line.\n",
    "\n",
    "In the above diagram, we can see that at a height lower than 10 we have three distinct clusters. Let us then pick a threshold of 9 and use that with in *fcluster*:"
   ]
  },
  {
   "cell_type": "code",
   "execution_count": 22,
   "id": "1f531493",
   "metadata": {},
   "outputs": [
    {
     "name": "stdout",
     "output_type": "stream",
     "text": [
      "[1 1 1 1 1 1 1 1 1 1 1 1 1 1 1 1 1 1 1 1 1 1 1 1 1 1 1 1 1 1 1 1 1 1 1 1 1\n",
      " 1 1 1 1 1 1 1 1 1 1 1 1 1 3 3 3 3 3 3 3 3 3 3 3 3 3 3 3 3 3 3 3 3 3 3 3 3\n",
      " 3 3 3 2 3 3 3 3 3 3 3 3 3 3 3 3 3 3 3 3 3 3 3 3 3 3 2 3 2 2 2 2 3 2 2 2 2\n",
      " 2 2 3 3 2 2 2 2 3 2 3 2 3 2 2 3 3 2 2 2 2 2 3 3 2 2 2 3 2 2 2 3 2 2 2 3 2\n",
      " 2 3]\n"
     ]
    }
   ],
   "source": [
    "from scipy.cluster.hierarchy import fcluster\n",
    "max_d = 9\n",
    "clusters = fcluster(X_link, max_d, criterion='distance')\n",
    "\n",
    "print(clusters)"
   ]
  },
  {
   "cell_type": "markdown",
   "id": "3516a2b6",
   "metadata": {},
   "source": [
    "The returned array contains the labels 1, 2, or 3 assigned to each of the data points."
   ]
  }
 ],
 "metadata": {
  "kernelspec": {
   "display_name": "Python 3 (ipykernel)",
   "language": "python",
   "name": "python3"
  },
  "language_info": {
   "codemirror_mode": {
    "name": "ipython",
    "version": 3
   },
   "file_extension": ".py",
   "mimetype": "text/x-python",
   "name": "python",
   "nbconvert_exporter": "python",
   "pygments_lexer": "ipython3",
   "version": "3.12.3"
  }
 },
 "nbformat": 4,
 "nbformat_minor": 5
}
