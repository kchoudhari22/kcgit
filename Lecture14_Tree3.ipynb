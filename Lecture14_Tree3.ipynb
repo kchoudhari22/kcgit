{
 "cells": [
  {
   "cell_type": "markdown",
   "id": "de7f9edb",
   "metadata": {},
   "source": [
    "# Lecture 14: Tree3 Part 2\n",
    "Ensemble Techniques"
   ]
  },
  {
   "cell_type": "markdown",
   "id": "a50c24a2",
   "metadata": {},
   "source": [
    "We will use the [Titanic: Machine learning from Disaster](https://www.kaggle.com/competitions/titanic/data?select=train.csv) dataset again.\n",
    "\n",
    "Recall that the training data provided contains 891 records with the following attributes:\n",
    "* Survived: 0= No; 1 = Yes\n",
    "* Pclass: Passenger Class (1 = 1st; 2 = 2nd; 3 = 3rd)\n",
    "* Name: Passenger name \n",
    "dataset.\n",
    "* Gender: (female; male)\n",
    "* Age: Passenger age\n",
    "* SibSp: Number of Siblings/Spouses Aboard\n",
    "* Parch: Number of Parents/Children Aboard\n",
    "* Ticket:Ticket Number\n",
    "* Fare: Passenger Fare\n",
    "* Cabin: Cabin\n",
    "* Embarked: Port of Embarkation (C = Cherbourg; Q =Queenstown; S = Southampton)\n",
    "\n"
   ]
  },
  {
   "cell_type": "markdown",
   "id": "6ce12f76",
   "metadata": {},
   "source": [
    "We will do similar pre-processing steps as before, only this time we are going to add more variables, including the *Number of Siblings/Spouses Aboard*, \n",
    "*Number of Parents/Children Aboard*, *Passenger Fare*, *Port of Embarkation*. \n",
    "\n",
    "The *Port of Embarkation* feature will need to be transformed in order to obtain dummy variables to encode the three categories:\n",
    "\n",
    "* Cherbourg: C\n",
    "* Queenstown: Q\n",
    "* Southampton: S\n",
    "\n",
    "For completeness, let us detail the steps again: "
   ]
  },
  {
   "cell_type": "code",
   "execution_count": null,
   "id": "e6bd7c89",
   "metadata": {},
   "outputs": [],
   "source": [
    "import pandas as pd\n",
    "titanic = pd.read_csv('titanic_train.csv')\n",
    "titanic = titanic.drop(['Ticket','Cabin'], axis=1)\n",
    "titanic = titanic.dropna()\n",
    "\n",
    "titanic = pd.concat([titanic, pd.get_dummies(titanic['Gender'])], axis=1)\n",
    "\n",
    "# New steps\n",
    "titanic = pd.concat([titanic, pd.get_dummies(titanic['Embarked'])], axis=1)"
   ]
  },
  {
   "cell_type": "markdown",
   "id": "9b1a3423",
   "metadata": {},
   "source": [
    "Split the dataset with new features.\n",
    "\n",
    "Note Port of Embarkation is not a binary feature, so we need all 3 dummy variable."
   ]
  },
  {
   "cell_type": "code",
   "execution_count": null,
   "id": "310b9d22",
   "metadata": {},
   "outputs": [],
   "source": [
    "import sklearn.model_selection as ms\n",
    "X = titanic[['Pclass', 'Age', 'female', 'SibSp', 'Parch', 'Fare', 'S', 'C', 'Q']]\n",
    "Y = titanic['Survived']\n",
    "\n",
    "\n",
    "XTrain, XTest, YTrain, YTest = ms.train_test_split(X, Y, test_size= 0.2, random_state=42)"
   ]
  },
  {
   "cell_type": "markdown",
   "id": "03f341dc",
   "metadata": {},
   "source": [
    "We will try out the learned ensemble methods implemented in sklearn:\n",
    "* **Bagging**: BaggingClassifier()\n",
    "* **Boosting**: AdaBoostClassifier()\n",
    "* **Random Forests**: RandomForestClassifier()\n",
    "* **Extremely Randomized Trees**: ExtraTreesClassifier()"
   ]
  },
  {
   "cell_type": "markdown",
   "id": "62e4c1c2",
   "metadata": {},
   "source": [
    "Some important parameters these ensemble techniques take: \n",
    "* **base_estimator**: determines the base classifier to be used in modelling. By default, the base classifier is decision trees, i.e., *DecisionTreeClassifier* we have discussed \n",
    "* **n_estimators**: determines the total number of base classifiers to be used\n",
    "\n",
    "Let's load the modules, and run them with 100 base models."
   ]
  },
  {
   "cell_type": "code",
   "execution_count": null,
   "id": "c1f6ec9a",
   "metadata": {},
   "outputs": [],
   "source": [
    "from sklearn.metrics import roc_curve\n",
    "from sklearn.tree import DecisionTreeClassifier\n",
    "from sklearn.ensemble import AdaBoostClassifier\n",
    "from sklearn.ensemble import BaggingClassifier\n",
    "from sklearn.ensemble import RandomForestClassifier\n",
    "from sklearn.ensemble import ExtraTreesClassifier\n",
    "\n",
    "n_estimators = 100\n",
    "\n",
    "models = [DecisionTreeClassifier(max_depth=3),\\\n",
    "BaggingClassifier(n_estimators=n_estimators),\\\n",
    "RandomForestClassifier(n_estimators=n_estimators),\\\n",
    "ExtraTreesClassifier(n_estimators=n_estimators),\\\n",
    "AdaBoostClassifier(n_estimators=n_estimators)]\n",
    "\n",
    "# Create a list that provides an easy way to identify each of the models later.\n",
    "model_titles = ['DecisionTree', 'Bagging', 'RandomForest', 'ExtraTrees', 'AdaBoost']\n",
    "\n",
    "# Create five empty lists for saving the computing results later\n",
    "# Why is this a better way to save test result?\n",
    "surv_preds, surv_probs, scores, fprs, tprs = ([] for i in range(5))\n",
    "\n",
    "\n",
    "for i, model in enumerate(models):\n",
    "    print(\"Fitting {0}\".format(model_titles[i]))\n",
    "    clf = model.fit(XTrain,YTrain)\n",
    "    surv_preds.append(model.predict(XTest))\n",
    "    surv_probs.append(model.predict_proba(XTest))\n",
    "    scores.append(model.score(XTest, YTest))\n",
    "    fpr, tpr, _ = roc_curve(YTest, surv_probs[i][:,1]) # get true and false positive rates \n",
    "    fprs.append(fpr)\n",
    "    tprs.append(tpr)"
   ]
  },
  {
   "cell_type": "markdown",
   "id": "b5ef7e2e",
   "metadata": {},
   "source": [
    "A for loop that prints out the score (accuracy) of each method"
   ]
  },
  {
   "cell_type": "code",
   "execution_count": null,
   "id": "46ad1f28",
   "metadata": {},
   "outputs": [],
   "source": [
    "for i, score in enumerate(scores):\n",
    "    print(\"{0} with score {1:0.2f}\".format(model_titles[i], score))"
   ]
  },
  {
   "cell_type": "markdown",
   "id": "e4325a78",
   "metadata": {},
   "source": [
    "Make a ROC plot for easy comparison among metjods."
   ]
  },
  {
   "cell_type": "code",
   "execution_count": null,
   "id": "9dbaaafc",
   "metadata": {},
   "outputs": [],
   "source": [
    "import matplotlib.pyplot as plt\n",
    "\n",
    "for i, _ in enumerate(models):\n",
    "    plt.plot(fprs[i],tprs[i])\n",
    "\n",
    "plt.legend(model_titles)\n",
    "plt.show()"
   ]
  }
 ],
 "metadata": {
  "kernelspec": {
   "display_name": "Python 3 (ipykernel)",
   "language": "python",
   "name": "python3"
  },
  "language_info": {
   "codemirror_mode": {
    "name": "ipython",
    "version": 3
   },
   "file_extension": ".py",
   "mimetype": "text/x-python",
   "name": "python",
   "nbconvert_exporter": "python",
   "pygments_lexer": "ipython3",
   "version": "3.9.13"
  }
 },
 "nbformat": 4,
 "nbformat_minor": 5
}
