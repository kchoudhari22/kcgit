{
 "cells": [
  {
   "cell_type": "markdown",
   "id": "cea60981-2d4e-4d3d-95e0-70aa5cad2ce3",
   "metadata": {},
   "source": [
    "# Script Assignment 10"
   ]
  },
  {
   "cell_type": "markdown",
   "id": "c524e022-e99a-4ecf-91da-86d803c6b8a2",
   "metadata": {},
   "source": [
    "**Your name:** Katelyn Choudhari             \n",
    "\n",
    "**Your ID:** 5368756"
   ]
  },
  {
   "cell_type": "markdown",
   "id": "da46b012-935e-4e9c-8400-c422c1a36b95",
   "metadata": {},
   "source": [
    "1. Suppose the cover price of a book is 24.95, but book stores get a 40% discount. Shipping costs 3 dollars for the first copy and 75 cents for each additional copy. What is the total wholesale cost for 60 copies? - 3 points"
   ]
  },
  {
   "cell_type": "code",
   "execution_count": 1,
   "id": "e7666a06-1eb1-435e-a81a-52624a7bb137",
   "metadata": {},
   "outputs": [
    {
     "name": "stdout",
     "output_type": "stream",
     "text": [
      "Total wholesale cost for 60 copies is: $945.4499999999999\n"
     ]
    }
   ],
   "source": [
    "coverPrice = 24.95\n",
    "discount = 0.40\n",
    "numCopies = 60\n",
    "firstCopyShipping = 3.00\n",
    "otherCopyShipping = 0.75\n",
    "\n",
    "#apply discount\n",
    "discountedPrice = coverPrice * (1 - discount)\n",
    "\n",
    "#calculate total book cost and total shipping cost\n",
    "totalBookCost = numCopies * discountedPrice\n",
    "totalShippingCost = firstCopyShipping + (numCopies - 1) * otherCopyShipping\n",
    "\n",
    "#total cost\n",
    "totalCost = totalBookCost + totalShippingCost\n",
    "\n",
    "println(\"Total wholesale cost for 60 copies is: \\$\", totalCost)"
   ]
  },
  {
   "cell_type": "markdown",
   "id": "38ee4fe8-c5aa-47d0-8d1b-bcdb10f30433",
   "metadata": {},
   "source": [
    "2. If I leave my house at 6:52 a.m. and run 1 mile at an easy pace (8:15 per mile), then 3 miles at tempo (7:12 per mile) and 1 mile at easy pace again, what time do I get home for breakfast? - 3 points"
   ]
  },
  {
   "cell_type": "code",
   "execution_count": 5,
   "id": "9b264c1b-9a97-414d-9442-3bc56224737b",
   "metadata": {},
   "outputs": [
    {
     "name": "stdout",
     "output_type": "stream",
     "text": [
      "Time to get home for breakfast: 07:30:06\n"
     ]
    }
   ],
   "source": [
    "using Dates\n",
    "\n",
    "#start time\n",
    "startHour = 6\n",
    "startMinute = 52\n",
    "startTime = Time(startHour, startMinute)\n",
    "\n",
    "#time in seconds for each pace\n",
    "easyPaceSeconds = 8 * 60 + 15\n",
    "tempoPaceSeconds = 7 * 60 + 12\n",
    "\n",
    "#total time for the run in seconds\n",
    "totalRunTimeSeconds = 2 * easyPaceSeconds + 3 * tempoPaceSeconds\n",
    "\n",
    "#calculate end time\n",
    "endTime = startTime + Second(totalRunTimeSeconds)\n",
    "println(\"Time to get home for breakfast: \", endTime)"
   ]
  },
  {
   "cell_type": "markdown",
   "id": "1d356755-24fc-41c9-95ec-d2e4ba079a7c",
   "metadata": {},
   "source": [
    "3. The function time returns the current Greenwich Mean Time in seconds since “the epoch,” an arbitrary time used as a reference point. On Unix systems, the epoch is 1 January 1970. Write a script that reads the current time and converts it to a time of day in hours, minutes, and seconds, plus the number of days since the epoch. - 4 points"
   ]
  },
  {
   "cell_type": "code",
   "execution_count": 7,
   "id": "b5f1a2ba-7c04-4068-980f-164c24f11d68",
   "metadata": {},
   "outputs": [
    {
     "name": "stdout",
     "output_type": "stream",
     "text": [
      "Days since epoch: 20035929\n",
      "Current time of day (GMT): 22:17:56\n"
     ]
    }
   ],
   "source": [
    "using Dates\n",
    "\n",
    "function epoch_to_time()\n",
    "    currentTime = trunc(Int, time())\n",
    "    epoch = DateTime(1970, 1, 1)\n",
    "\n",
    "    #convert current_time to DateTime\n",
    "    datetimeNow = epoch + Second(currentTime)\n",
    "    daysSinceEpoch = Dates.value(datetimeNow - epoch) ÷ (24 * 60 * 60)\n",
    "    timeOfDay = Time(datetimeNow)\n",
    "\n",
    "    return daysSinceEpoch, timeOfDay\n",
    "end\n",
    "\n",
    "daysSinceEpoch, timeOfDay = epoch_to_time()\n",
    "println(\"Days since epoch: \", daysSinceEpoch)\n",
    "println(\"Current time of day (GMT): \", timeOfDay)"
   ]
  }
 ],
 "metadata": {
  "kernelspec": {
   "display_name": "Julia 1.11.1",
   "language": "julia",
   "name": "julia-1.11"
  },
  "language_info": {
   "file_extension": ".jl",
   "mimetype": "application/julia",
   "name": "julia",
   "version": "1.11.1"
  }
 },
 "nbformat": 4,
 "nbformat_minor": 5
}
