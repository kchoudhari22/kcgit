{
 "cells": [
  {
   "cell_type": "markdown",
   "id": "dae494d5-2a1b-4c7f-92a0-3c9b622006f7",
   "metadata": {},
   "source": [
    "# Script Assignment 11"
   ]
  },
  {
   "cell_type": "markdown",
   "id": "2948e3e8-ca0d-4253-b58d-72edd136a713",
   "metadata": {},
   "source": [
    "**Your name:** Katelyn Choudhari             \n",
    "\n",
    "**Your ID:** 5368756"
   ]
  },
  {
   "cell_type": "markdown",
   "id": "5b24e602-2d1d-4ca0-a296-87f9bf7cb17b",
   "metadata": {},
   "source": [
    "Assignment: Data Loading and Analysis\r\n",
    "\r\n",
    "Objective: The objective of this assignment is to familiarize students with data loading, manipulation, and basic analysis using Julia programming languag\n",
    "\n",
    "Submission:\r\n",
    "Submit a Jupyter notebook or a Julia script (.jl) containing your code, visualizations, and the conclusion. Ensure that your code is well-commented for clarity.\r\n",
    "\r\n",
    "Additional Notes:\r\n",
    "- Use Julia packages like CSV.jl and DataFrames.jl for data loading and manipulation.\r\n",
    "- Include comments in your code to explain each step.\r\n",
    "- Feel free to explore additional analyses or visualizations beyond the specified tasks.\r\n",
    "\r\n",
    "This assignment is designed to cover basic data loading, manipulation, and visualization using Julia.e."
   ]
  },
  {
   "cell_type": "markdown",
   "id": "ee86b1ca-105d-409b-9de5-a5e2cf158893",
   "metadata": {},
   "source": [
    "1. Data Loading:\r\n",
    "   - Download the \"iris.csv\" dataset from a reliable source (e.g., UCI Machine Learning Repository).\r\n",
    "   - Load the dataset into a Julia DataFrame."
   ]
  },
  {
   "cell_type": "markdown",
   "id": "1f2dd596-8bc1-4134-8c99-d8b3548e5cc5",
   "metadata": {},
   "source": []
  },
  {
   "cell_type": "markdown",
   "id": "ad38fc40-8cbf-407a-acc7-a5c78b14caaf",
   "metadata": {},
   "source": [
    "2. Exploratory Data Analysis (EDA):\r\n",
    "   - Display the first few rows of the dataset.\r\n",
    "   - Provide summary statistics of the dataset.\r\n",
    "   - Check for missing values in the dataset."
   ]
  },
  {
   "cell_type": "code",
   "execution_count": null,
   "id": "55739ab8-8484-40ea-819b-dea6de4cf30b",
   "metadata": {},
   "outputs": [],
   "source": []
  },
  {
   "cell_type": "markdown",
   "id": "d4aa25b7-a1c9-402d-9588-dd17683f00ea",
   "metadata": {},
   "source": [
    "3. Data Manipulation:\r\n",
    "   - Create a new DataFrame containing only the columns \"SepalLength\" and \"SepalWidth.\"\r\n",
    "   - Calculate the mean and standard deviation of each column in the new DataFrame."
   ]
  },
  {
   "cell_type": "code",
   "execution_count": null,
   "id": "25e52c65-e9ef-44c1-8d4a-c0d5df4c026d",
   "metadata": {},
   "outputs": [],
   "source": []
  },
  {
   "cell_type": "markdown",
   "id": "1b56184e-0665-4bb9-b6dd-e4296c9f783e",
   "metadata": {},
   "source": [
    "4. Data Visualization:\r\n",
    "   - Create a scatter plot of \"SepalLength\" vs. \"SepalWidth\" using a plotting library of your choice (e.g., Plots.jl)."
   ]
  },
  {
   "cell_type": "code",
   "execution_count": null,
   "id": "6b91a42d-4dc0-42a5-9f5f-dbbf18a7f7e2",
   "metadata": {},
   "outputs": [],
   "source": []
  },
  {
   "cell_type": "markdown",
   "id": "e2cfa821-6ed5-4b28-bcc2-182dc5cf30cd",
   "metadata": {},
   "source": [
    "5. Conclusion:\r\n",
    "   - Write a brief conclusion based on the EDA and visualization. What insights can be gained from the data?"
   ]
  },
  {
   "cell_type": "code",
   "execution_count": null,
   "id": "9fa242fa-52b5-4075-b1e3-ac47c19203cb",
   "metadata": {},
   "outputs": [],
   "source": []
  }
 ],
 "metadata": {
  "kernelspec": {
   "display_name": "Julia 1.11.1",
   "language": "julia",
   "name": "julia-1.11"
  },
  "language_info": {
   "file_extension": ".jl",
   "mimetype": "application/julia",
   "name": "julia",
   "version": "1.11.1"
  }
 },
 "nbformat": 4,
 "nbformat_minor": 5
}
