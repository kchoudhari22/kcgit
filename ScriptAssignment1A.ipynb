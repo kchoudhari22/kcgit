{
 "cells": [
  {
   "cell_type": "code",
   "execution_count": 100,
   "id": "e19315ab-b1f7-4c20-919e-b73791f135be",
   "metadata": {},
   "outputs": [
    {
     "name": "stdout",
     "output_type": "stream",
     "text": [
      "this is a ftring\n"
     ]
    }
   ],
   "source": [
    "'''\n",
    "Katelyn Choudhari\n",
    "COP4283\n",
    "Script Assignment 1A\n",
    "'''\n",
    "\n",
    "#Script 1\n",
    "'''\n",
    "Original code with error:\n",
    "a = \"this is a string\"\n",
    "a[10] = \"f\"\n",
    "'''\n",
    "\n",
    "#Solution - using slicing:\n",
    "a = \"this is a string\"\n",
    "a = a[:10] + \"f\" + a[11:]\n",
    "print(a)"
   ]
  },
  {
   "cell_type": "code",
   "execution_count": 102,
   "id": "b6e5e604-c2a8-4b32-997d-f8fd24ec2ca2",
   "metadata": {},
   "outputs": [
    {
     "name": "stdout",
     "output_type": "stream",
     "text": [
      "(3, 'four', (4, 5))\n"
     ]
    }
   ],
   "source": [
    "#Script 2\n",
    "'''\n",
    "Original code with error:\n",
    "a_tuple = (3, 5, (4, 5))\n",
    "a_tuple[1] = \"four\"\n",
    "'''\n",
    "\n",
    "#Solution - creating a new tuple to insert the str 'four'\n",
    "a_tuple = (3, 5, (4, 5))\n",
    "a_tuple = (a_tuple[0], \"four\", a_tuple[2])\n",
    "print(a_tuple)"
   ]
  },
  {
   "cell_type": "code",
   "execution_count": 104,
   "id": "dbbd5d0b-28b9-4c03-b141-ead540637950",
   "metadata": {},
   "outputs": [
    {
     "name": "stdout",
     "output_type": "stream",
     "text": [
      "55\n",
      "10\n"
     ]
    }
   ],
   "source": [
    "#Script 3\n",
    "'''\n",
    "Original code with error:\n",
    "\"5\" + 5\n",
    "'''\n",
    "\n",
    "#Solution - convert data types to concatenate strings or do addition of integers\n",
    "#Depending on what you need the code to do, it will yield different outputs\n",
    "stringConcatenation = \"5\" + str(5)\n",
    "print(stringConcatenation)\n",
    "\n",
    "#-or-\n",
    "\n",
    "integerAddition = int(\"5\") + 5\n",
    "print(integerAddition)"
   ]
  },
  {
   "cell_type": "code",
   "execution_count": 106,
   "id": "456798d0-07be-4005-8c2f-b4b3ef3a3009",
   "metadata": {},
   "outputs": [
    {
     "name": "stdout",
     "output_type": "stream",
     "text": [
      "[-0.2047  0.4789 -0.5194 -0.5557  1.9658]\n",
      "[ 0.5954  0.7371  0.0337 -0.9586 -0.4635]\n",
      "[0.2047 0.6194 0.5016 0.0612 0.3944]\n"
     ]
    }
   ],
   "source": [
    "#Script 4\n",
    "'''\n",
    "Original code\n",
    "import numpy as np\n",
    "np.random.seed(12345)\n",
    "np.set_printoptions(precision=4, suppress=True)\n",
    "'''\n",
    "\n",
    "#Solution - generate 5 random numbers and output values\n",
    "import numpy as np\n",
    "np.random.seed(12345) #setting a seed ensures the same random values are outputted every time\n",
    "np.set_printoptions(precision=4, suppress=True)\n",
    "decimalValues = np.random.randn(5)\n",
    "print(decimalValues)\n",
    "\n",
    "#Not setting a seed will output different values each time\n",
    "import numpy as np\n",
    "np.random.seed() \n",
    "np.set_printoptions(precision=4, suppress=True)\n",
    "decimalValues = np.random.randn(5)\n",
    "print(decimalValues)\n",
    "\n",
    "#-or-\n",
    "\n",
    "import numpy as np\n",
    "print(np.random.rand(5))"
   ]
  },
  {
   "cell_type": "code",
   "execution_count": 108,
   "id": "b642c5f1-8f01-4b99-b107-71dfdd229a6f",
   "metadata": {},
   "outputs": [
    {
     "name": "stdout",
     "output_type": "stream",
     "text": [
      "3.14159\n",
      "<class 'float'>\n",
      "3\n",
      "True\n",
      "False\n"
     ]
    }
   ],
   "source": [
    "#Script 5\n",
    "'''\n",
    "Original code\n",
    "s = \"3.14159\"\n",
    "fval = float(s)\n",
    "type(fval)\n",
    "int(fval)\n",
    "bool(fval)\n",
    "bool(0)\n",
    "'''\n",
    "\n",
    "#Solution - outputs what each line does\n",
    "s = \"3.14159\"\n",
    "fval = float(s)\n",
    "type(fval)\n",
    "int(fval)\n",
    "bool(fval)\n",
    "bool(0)\n",
    "\n",
    "print(fval)        #Convert str to a float \n",
    "print(type(fval))  #Return data type/class of the variable\n",
    "print(int(fval))   #Convert float to int\n",
    "print(bool(fval))  #Boolean true\n",
    "print(bool(0))     #Boolean false"
   ]
  }
 ],
 "metadata": {
  "kernelspec": {
   "display_name": "Python 3 (ipykernel)",
   "language": "python",
   "name": "python3"
  },
  "language_info": {
   "codemirror_mode": {
    "name": "ipython",
    "version": 3
   },
   "file_extension": ".py",
   "mimetype": "text/x-python",
   "name": "python",
   "nbconvert_exporter": "python",
   "pygments_lexer": "ipython3",
   "version": "3.12.3"
  }
 },
 "nbformat": 4,
 "nbformat_minor": 5
}
