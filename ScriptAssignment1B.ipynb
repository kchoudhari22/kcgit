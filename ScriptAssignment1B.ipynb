{
 "cells": [
  {
   "cell_type": "code",
   "execution_count": 39,
   "id": "d747e83b-705a-45dc-b42f-487952fa0617",
   "metadata": {},
   "outputs": [
    {
     "name": "stdout",
     "output_type": "stream",
     "text": [
      "('foo', [1, 2], False)\n"
     ]
    }
   ],
   "source": [
    "'''\n",
    "Katelyn Choudhari\n",
    "COP4283\n",
    "Script Assignment 1B\n",
    "'''\n",
    "\n",
    "#Script 1\n",
    "'''\n",
    "Original code with error:\n",
    "tup = tuple(['foo', [1, 2], True])\n",
    "tup[2] = False\n",
    "'''\n",
    "\n",
    "#Solution - create a new tuple by slicing the original typle and appending the new value\n",
    "tup = tuple(['foo', [1, 2], True])\n",
    "tup = tup[:2] + (False,)\n",
    "print(tup)"
   ]
  },
  {
   "cell_type": "code",
   "execution_count": 41,
   "id": "305c1cb7-a6e9-48ee-8b1b-eef3bd99a7b9",
   "metadata": {},
   "outputs": [
    {
     "name": "stdout",
     "output_type": "stream",
     "text": [
      "3432546357792504845\n",
      "-9209053662355515447\n",
      "-9209053662355515447\n"
     ]
    }
   ],
   "source": [
    "#Script 2\n",
    "'''\n",
    "Original code with error:\n",
    "from collections import defaultdict\n",
    "by_letter = defaultdict(list)\n",
    "for word in words:\n",
    "    by_letter[word[0]].append(word)\n",
    "hash(\"string\")\n",
    "hash((1, 2, (2, 3)))\n",
    "hash((1, 2, [2, 3])) # fails because lists are mutable\n",
    "'''\n",
    "\n",
    "#Solution - convert the list [2,3] to a tuple which can be hashed\n",
    "from collections import defaultdict\n",
    "\n",
    "by_letter = defaultdict(list)\n",
    "words = [\"apple\", \"banana\", \"cherry\"]\n",
    "for word in words:\n",
    "    by_letter[word[0]].append(word)\n",
    "\n",
    "#print(by_letter)\n",
    "print(hash(\"string\"))\n",
    "print(hash((1, 2, (2, 3))))\n",
    "print(hash((1, 2, tuple([2, 3]))))"
   ]
  },
  {
   "cell_type": "code",
   "execution_count": 43,
   "id": "4d8a3ee7-1f63-4fd3-992a-dcbcd82b7e60",
   "metadata": {},
   "outputs": [
    {
     "name": "stdout",
     "output_type": "stream",
     "text": [
      "1.2345\n",
      "Unable to convert 'something' to a float.\n",
      "Return value: \n",
      "None\n"
     ]
    }
   ],
   "source": [
    "#Script 3\n",
    "'''\n",
    "Original code with error:\n",
    "float(\"1.2345\")\n",
    "float(\"something\")\n",
    "'''\n",
    "\n",
    "#Solution - add a helper fnct. will try to convert a string to a float but will essentially return None and an error message, therefore it will handle the error without crashing the program\n",
    "def convertFloat(value):\n",
    "    try:\n",
    "        return float(value)\n",
    "    except ValueError:\n",
    "        print(f\"Unable to convert '{value}' to a float.\\nReturn value: \")\n",
    "        return None\n",
    "\n",
    "print(convertFloat(\"1.2345\"))\n",
    "print(convertFloat(\"something\"))"
   ]
  },
  {
   "cell_type": "code",
   "execution_count": 45,
   "id": "c60c386f-9b7e-4671-a471-17e5ca715075",
   "metadata": {},
   "outputs": [
    {
     "name": "stdout",
     "output_type": "stream",
     "text": [
      "1.2345\n",
      "Unable to convert 'something' to a float.\n",
      "Return value: \n",
      "None\n",
      "Unable to convert (1, 2) directly to a float.\n",
      "Return value: \n",
      "None\n"
     ]
    }
   ],
   "source": [
    "#Script 4\n",
    "'''\n",
    "Original code\n",
    "def attempt_float(x):\n",
    "    try:\n",
    "        return float(x)\n",
    "    except:\n",
    "        return x\n",
    "attempt_float(\"1.2345\")\n",
    "attempt_float(\"something\")\n",
    "float((1, 2))\n",
    "'''\n",
    "\n",
    "#Solution - add a check to handle errors/prevent crashing the program\n",
    "def attempt_float(x):\n",
    "    try:\n",
    "        if isinstance(x, (list, tuple)):\n",
    "            print(f\"Unable to convert {x} directly to a float.\\nReturn value: \")\n",
    "            return None\n",
    "        return float(x)\n",
    "    except ValueError:\n",
    "        print(f\"Unable to convert '{x}' to a float.\\nReturn value: \")\n",
    "        return None\n",
    "\n",
    "print(attempt_float(\"1.2345\"))\n",
    "print(attempt_float(\"something\"))\n",
    "print(attempt_float((1, 2)))"
   ]
  },
  {
   "cell_type": "code",
   "execution_count": 47,
   "id": "19cbb1ba-b027-48a9-9a9a-1e10cc7a33e0",
   "metadata": {},
   "outputs": [
    {
     "name": "stdout",
     "output_type": "stream",
     "text": [
      "1.2345\n",
      "(1, 2)\n"
     ]
    }
   ],
   "source": [
    "#Script 5\n",
    "'''\n",
    "Original code\n",
    "def attempt_float(x):\n",
    "    try:\n",
    "        return float(x)\n",
    "    except ValueError:\n",
    "        return x\n",
    "attempt_float((1, 2))\n",
    "'''\n",
    "\n",
    "#Solution - add TypeError to the except block to handle tuples to prevent crashing the program\n",
    "def attempt_float(x):\n",
    "    try:\n",
    "        return float(x)\n",
    "    except (ValueError, TypeError):\n",
    "        return x\n",
    "\n",
    "print(attempt_float(\"1.2345\"))\n",
    "print(attempt_float((1, 2)))"
   ]
  }
 ],
 "metadata": {
  "kernelspec": {
   "display_name": "Python 3 (ipykernel)",
   "language": "python",
   "name": "python3"
  },
  "language_info": {
   "codemirror_mode": {
    "name": "ipython",
    "version": 3
   },
   "file_extension": ".py",
   "mimetype": "text/x-python",
   "name": "python",
   "nbconvert_exporter": "python",
   "pygments_lexer": "ipython3",
   "version": "3.12.3"
  }
 },
 "nbformat": 4,
 "nbformat_minor": 5
}
