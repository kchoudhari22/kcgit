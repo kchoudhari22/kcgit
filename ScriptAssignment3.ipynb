{
 "cells": [
  {
   "cell_type": "markdown",
   "id": "f5ac801a-9215-40ae-99bc-1dfb489dfd15",
   "metadata": {},
   "source": [
    "# Script Assignment 3"
   ]
  },
  {
   "cell_type": "markdown",
   "id": "e6c20569-fcc6-4178-a267-15566d077824",
   "metadata": {},
   "source": [
    "**Your name:** Katelyn Choudhari             \n",
    "\n",
    "**Your ID:** 5368756"
   ]
  },
  {
   "cell_type": "markdown",
   "id": "285777c2-bce7-4d88-ba6e-f2d05a125d7d",
   "metadata": {},
   "source": [
    "All solutions should be only in Jupyter Notebook.\n",
    "Provide comments for every solution.\n",
    "Code in Code cell and Text in Markdown cell."
   ]
  },
  {
   "cell_type": "markdown",
   "id": "c3a7ace8-40ae-4615-84c8-ff8f28094d15",
   "metadata": {},
   "source": [
    "Use the movie lens dataset and address the following functions:"
   ]
  },
  {
   "cell_type": "code",
   "execution_count": 63,
   "id": "5823c588-a842-4578-8f60-567a7e0bc90a",
   "metadata": {},
   "outputs": [
    {
     "name": "stdout",
     "output_type": "stream",
     "text": [
      "  ID                               Title                        Genres  \\\n",
      "0  1                    Toy Story (1995)   Animation|Children's|Comedy   \n",
      "1  2                      Jumanji (1995)  Adventure|Children's|Fantasy   \n",
      "2  3             Grumpier Old Men (1995)                Comedy|Romance   \n",
      "3  4            Waiting to Exhale (1995)                  Comedy|Drama   \n",
      "4  5  Father of the Bride Part II (1995)                        Comedy   \n",
      "\n",
      "  First Genre  \n",
      "0   Animation  \n",
      "1   Adventure  \n",
      "2      Comedy  \n",
      "3      Comedy  \n",
      "4      Comedy  \n"
     ]
    }
   ],
   "source": [
    "#extract and clean initial data\n",
    "\n",
    "import pandas as pd\n",
    "import numpy as np\n",
    "\n",
    "#load the data into a dataframe\n",
    "movieData = 'movies.csv'\n",
    "moviesDataFrame = pd.read_csv(movieData, header = None, names = ['RawData', 'Unnamed1', 'Unnamed2'])\n",
    "\n",
    "#split the raw data column into columns: 'ID', 'Title', 'Genres'\n",
    "moviesDataFrame[['ID', 'Title', 'Genres']] = moviesDataFrame['RawData'].str.split('::', expand=True)\n",
    "\n",
    "#drop the original raw data column and any extra columns\n",
    "moviesDataFrame = moviesDataFrame[['ID', 'Title', 'Genres']]\n",
    "\n",
    "#fill in an empty string where there is any NaN value in the Genre column\n",
    "moviesDataFrame['Genres'] = moviesDataFrame['Genres'].fillna('')\n",
    "\n",
    "#split the genres by deliminter | and extract the first genre for ones with multiple genres (done here to make later tasks easier)\n",
    "moviesDataFrame['First Genre'] = moviesDataFrame['Genres'].apply(lambda x: x.split('|')[0])\n",
    "\n",
    "#print the first few rows of the csv table to check file can be opened, read and formatted correctly\n",
    "print(moviesDataFrame.head())"
   ]
  },
  {
   "cell_type": "markdown",
   "id": "6a2f5c50-2ecd-4e21-8e3d-f655176b5c75",
   "metadata": {},
   "source": [
    "1. Transform Titles lowercase to uppercase and uppercase to lowercase. - 1 point"
   ]
  },
  {
   "cell_type": "code",
   "execution_count": 66,
   "id": "d7e299f6-6df1-4baf-aeac-00f788a14289",
   "metadata": {},
   "outputs": [
    {
     "name": "stdout",
     "output_type": "stream",
     "text": [
      "0                         tOY sTORY (1995)\n",
      "1                           jUMANJI (1995)\n",
      "2                  gRUMPIER oLD mEN (1995)\n",
      "3                 wAITING TO eXHALE (1995)\n",
      "4       fATHER OF THE bRIDE pART ii (1995)\n",
      "                       ...                \n",
      "3878               mEET THE pARENTS (2000)\n",
      "3879            rEQUIEM FOR A dREAM (2000)\n",
      "3880                      tIGERLAND (2000)\n",
      "3881               tWO fAMILY hOUSE (2000)\n",
      "3882                             cONTENDER\n",
      "Name: Transformed Title, Length: 3883, dtype: object\n"
     ]
    }
   ],
   "source": [
    "#transform capitalization of titles\n",
    "moviesDataFrame['Transformed Title'] = moviesDataFrame['Title'].apply(lambda x: x.swapcase())\n",
    "\n",
    "print(moviesDataFrame['Transformed Title'])"
   ]
  },
  {
   "cell_type": "markdown",
   "id": "2b1fd1a5-12a6-4f3e-b1aa-0db74beb7d7d",
   "metadata": {},
   "source": [
    "2. Replace movie id with any number between 99 to 999 (use conditions as needed) - 1 point"
   ]
  },
  {
   "cell_type": "code",
   "execution_count": 69,
   "id": "656b4ebc-ef65-4d65-a9b8-3e6b87c19c80",
   "metadata": {},
   "outputs": [
    {
     "name": "stdout",
     "output_type": "stream",
     "text": [
      "0       762\n",
      "1       227\n",
      "2       354\n",
      "3       991\n",
      "4       712\n",
      "       ... \n",
      "3878    364\n",
      "3879    104\n",
      "3880    405\n",
      "3881    848\n",
      "3882    933\n",
      "Name: Transformed ID, Length: 3883, dtype: int32\n"
     ]
    }
   ],
   "source": [
    "#replace movie id with any number between 99 to 999\n",
    "import numpy as np\n",
    "\n",
    "moviesDataFrame['Transformed ID'] = np.random.randint(99, 1000, moviesDataFrame.shape[0])\n",
    "print(moviesDataFrame['Transformed ID'])"
   ]
  },
  {
   "cell_type": "markdown",
   "id": "fc4490ca-8144-48ea-8351-4705e04b7414",
   "metadata": {},
   "source": [
    "3. Finds the first match on Genres - 1 point"
   ]
  },
  {
   "cell_type": "code",
   "execution_count": 72,
   "id": "c2cf6afd-56b8-431a-a50f-b7b7f0503891",
   "metadata": {},
   "outputs": [
    {
     "name": "stdout",
     "output_type": "stream",
     "text": [
      "0       Animation\n",
      "1       Adventure\n",
      "2          Comedy\n",
      "3          Comedy\n",
      "4          Comedy\n",
      "          ...    \n",
      "3878       Comedy\n",
      "3879        Drama\n",
      "3880        Drama\n",
      "3881        Drama\n",
      "3882             \n",
      "Name: First Genre, Length: 3883, dtype: object\n"
     ]
    }
   ],
   "source": [
    "#get first genre\n",
    "moviesDataFrame['First Genre'] = moviesDataFrame['Genres'].apply(lambda x: x.split('|')[0])\n",
    "print(moviesDataFrame['First Genre'])"
   ]
  },
  {
   "cell_type": "markdown",
   "id": "4b8754ad-a2c6-469f-a00e-6273b091655e",
   "metadata": {},
   "source": [
    "4. Substitute comedy genres with horror - 1 point"
   ]
  },
  {
   "cell_type": "code",
   "execution_count": 75,
   "id": "cf7854b6-2bee-49ee-a412-ddd5f07de465",
   "metadata": {},
   "outputs": [
    {
     "name": "stdout",
     "output_type": "stream",
     "text": [
      "0        Animation|Children's|Horror\n",
      "1       Adventure|Children's|Fantasy\n",
      "2                     Horror|Romance\n",
      "3                       Horror|Drama\n",
      "4                             Horror\n",
      "                    ...             \n",
      "3878                          Horror\n",
      "3879                           Drama\n",
      "3880                           Drama\n",
      "3881                           Drama\n",
      "3882                                \n",
      "Name: Transformed Genre, Length: 3883, dtype: object\n"
     ]
    }
   ],
   "source": [
    "#sub comedy genres with horror\n",
    "moviesDataFrame['Transformed Genre'] = moviesDataFrame['Genres'].str.replace('Comedy', 'Horror', regex=True)\n",
    "print(moviesDataFrame['Transformed Genre'])"
   ]
  },
  {
   "cell_type": "markdown",
   "id": "1fdf7f6e-0422-48bc-8c0d-4d4a75061838",
   "metadata": {},
   "source": [
    "5. Split Genre by the prefix - 1 point"
   ]
  },
  {
   "cell_type": "code",
   "execution_count": 78,
   "id": "10b0ed30-9c83-4dcf-b44f-fd0d3e79bba2",
   "metadata": {},
   "outputs": [
    {
     "name": "stdout",
     "output_type": "stream",
     "text": [
      "0        [Animation, Children's, Comedy]\n",
      "1       [Adventure, Children's, Fantasy]\n",
      "2                      [Comedy, Romance]\n",
      "3                        [Comedy, Drama]\n",
      "4                               [Comedy]\n",
      "                      ...               \n",
      "3878                            [Comedy]\n",
      "3879                             [Drama]\n",
      "3880                             [Drama]\n",
      "3881                             [Drama]\n",
      "3882                                  []\n",
      "Name: Genre Split, Length: 3883, dtype: object\n"
     ]
    }
   ],
   "source": [
    "#split Genre by the prefix (split by '|')\n",
    "moviesDataFrame['Genre Split'] = moviesDataFrame['Genres'].str.split('|')\n",
    "print(moviesDataFrame['Genre Split'])"
   ]
  },
  {
   "cell_type": "markdown",
   "id": "412454e7-6320-43b6-9847-0112ac0686c1",
   "metadata": {},
   "source": [
    "Using regular expression."
   ]
  },
  {
   "cell_type": "markdown",
   "id": "d2445b52-6f88-4fd4-b7e8-d0c0395e8aab",
   "metadata": {},
   "source": [
    "1. Provide a regular expression that may be used to extract complete email addresses. Use my email id khanh.vu@ucf.edu"
   ]
  },
  {
   "cell_type": "code",
   "execution_count": 82,
   "id": "9ddfc084-19f6-46bb-b5e3-ed8cb5729236",
   "metadata": {},
   "outputs": [
    {
     "name": "stdout",
     "output_type": "stream",
     "text": [
      "['khanh.vu@ucf.edu']\n"
     ]
    }
   ],
   "source": [
    "import re\n",
    "\n",
    "#get email addresses from the provided string\n",
    "email = \"khanh.vu@ucf.edu\"\n",
    "emailRegex = r'[a-zA-Z0-9._%+-]+@[a-zA-Z0-9.-]+\\.[a-zA-Z]{2,}'\n",
    "x = re.findall(email_regex, email_string)\n",
    "\n",
    "print(x)"
   ]
  },
  {
   "cell_type": "markdown",
   "id": "e9cc5829-9aa6-49e8-b674-06683d6a3494",
   "metadata": {},
   "source": [
    "2. This time write a regex to get only the part of the email before the \"@\" sign and include the \"@\" sign."
   ]
  },
  {
   "cell_type": "code",
   "execution_count": 96,
   "id": "9f3c8d87-bf15-4873-a9e5-8661832c1807",
   "metadata": {},
   "outputs": [
    {
     "name": "stdout",
     "output_type": "stream",
     "text": [
      "['khanh.vu@']\n"
     ]
    }
   ],
   "source": [
    "#get only the part of the email before \"@\" including \"@\" sign\n",
    "emailRegexBeforeAt = r'[a-zA-Z0-9._%+-]+@'\n",
    "x1 = re.findall(emailRegexBeforeAt, email)\n",
    "\n",
    "print (x1)"
   ]
  },
  {
   "cell_type": "markdown",
   "id": "665de13d-a85a-4907-8284-ccc5a76a1306",
   "metadata": {},
   "source": [
    "3. This time write a regex to get only the part of the email after the \"@\" sign and exclude the \"@\" sign."
   ]
  },
  {
   "cell_type": "code",
   "execution_count": 99,
   "id": "edb5d4df-76b6-47b8-98b8-9eb75bf7b896",
   "metadata": {},
   "outputs": [
    {
     "name": "stdout",
     "output_type": "stream",
     "text": [
      "['ucf.edu']\n"
     ]
    }
   ],
   "source": [
    "#get only the part of the email after \"@\" excluding the \"@\" sign\n",
    "emailRegexAfterAt = r'(?<=@)[a-zA-Z0-9.-]+\\.[a-zA-Z]{2,}'\n",
    "x2 = re.findall(emailRegexAfterAt, email)\n",
    "\n",
    "print(x2)"
   ]
  },
  {
   "cell_type": "markdown",
   "id": "d72f560e-1425-4bad-b47b-a5c19042934f",
   "metadata": {},
   "source": [
    "4. Find the words with exactly 8 letters using regex. '''Au pays parfume que le soleil caresse, J'ai connu, sous un dais d'arbres tout empourpres Et de palmiers d'ou pleut sur les yeux la paresse, Une dame creole aux charmes ignores.'''"
   ]
  },
  {
   "cell_type": "code",
   "execution_count": 102,
   "id": "26926011-c9ae-40b3-8b01-e00470d21423",
   "metadata": {},
   "outputs": [
    {
     "name": "stdout",
     "output_type": "stream",
     "text": [
      "['palmiers']\n"
     ]
    }
   ],
   "source": [
    "#find words with exactly 8 letters in the given French text\n",
    "frenchWords = '''Au pays parfume que le soleil caresse, J'ai connu, sous un dais d'arbres tout empourpres Et de palmiers d'ou pleut sur les yeux la paresse, Une dame creole aux charmes ignores.'''\n",
    "eightRegex = r'\\b\\w{8}\\b'\n",
    "x3 = re.findall(eightRegex, frenchWords)\n",
    "\n",
    "print(x3)"
   ]
  },
  {
   "cell_type": "markdown",
   "id": "74d5b8b0-9040-4029-a006-75233903b961",
   "metadata": {},
   "source": [
    "5. You are given stock prices for related financial tickers. (Symbols representing companies in the stock market). Find a way to extract the tickers mentioned in the report. i.e.: TSLA, NFLX ...\"\"\"Some of the prices were as following TSLA:749.50, ORCL: 50.50, GE: 10.90, MSFT: 170.50, BIDU: 121.40. As the macroeconomic developments continue we will update the prices. \"\"\""
   ]
  },
  {
   "cell_type": "code",
   "execution_count": 107,
   "id": "be0843fb-0032-48ff-a130-58345531830c",
   "metadata": {},
   "outputs": [
    {
     "name": "stdout",
     "output_type": "stream",
     "text": [
      "['TSLA', 'ORCL', 'GE', 'MSFT', 'BIDU']\n"
     ]
    }
   ],
   "source": [
    "#get stock tickers from the financial report\n",
    "stonks = \"Some of the prices were as following TSLA:749.50, ORCL: 50.50, GE: 10.90, MSFT: 170.50, BIDU: 121.40. As the macroeconomic developments continue we will update the prices.\"\n",
    "tickerRegex = r'\\b[A-Z]{2,5}(?=:)' #match two to five uppercase letters before the colon to get the tickers\n",
    "x4 = re.findall(tickerRegex, stonks)\n",
    "\n",
    "print(x4)"
   ]
  }
 ],
 "metadata": {
  "kernelspec": {
   "display_name": "Python 3 (ipykernel)",
   "language": "python",
   "name": "python3"
  },
  "language_info": {
   "codemirror_mode": {
    "name": "ipython",
    "version": 3
   },
   "file_extension": ".py",
   "mimetype": "text/x-python",
   "name": "python",
   "nbconvert_exporter": "python",
   "pygments_lexer": "ipython3",
   "version": "3.12.3"
  }
 },
 "nbformat": 4,
 "nbformat_minor": 5
}
