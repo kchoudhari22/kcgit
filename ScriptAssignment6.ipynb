{
 "cells": [
  {
   "cell_type": "markdown",
   "id": "ebe18b05-4149-43d8-9ed8-acdfc493f06e",
   "metadata": {},
   "source": [
    "# Script Assignment 6"
   ]
  },
  {
   "cell_type": "markdown",
   "id": "48f75381-0af6-46c1-a463-0411f5c21043",
   "metadata": {},
   "source": [
    "**Your name:** Katelyn Choudhari             \n",
    "\n",
    "**Your ID:** 5368756"
   ]
  },
  {
   "cell_type": "markdown",
   "id": "416bf945-7c4a-4259-aabb-4b989a9d11bb",
   "metadata": {},
   "source": [
    "Use the Tips dataset and address the following functions.rkdown cell."
   ]
  },
  {
   "cell_type": "code",
   "execution_count": 89,
   "id": "1482025f-3d0c-4ac1-95f6-bb56e1aac616",
   "metadata": {},
   "outputs": [
    {
     "name": "stdout",
     "output_type": "stream",
     "text": [
      "     total_bill   tip smoker   day    time  size\n",
      "0         16.99  1.01     No   Sun  Dinner     2\n",
      "1         10.34  1.66     No   Sun  Dinner     3\n",
      "2         21.01  3.50     No   Sun  Dinner     3\n",
      "3         23.68  3.31     No   Sun  Dinner     2\n",
      "4         24.59  3.61     No   Sun  Dinner     4\n",
      "..          ...   ...    ...   ...     ...   ...\n",
      "239       29.03  5.92     No   Sat  Dinner     3\n",
      "240       27.18  2.00    Yes   Sat  Dinner     2\n",
      "241       22.67  2.00    Yes   Sat  Dinner     2\n",
      "242       17.82  1.75     No   Sat  Dinner     2\n",
      "243       18.78  3.00     No  Thur  Dinner     2\n",
      "\n",
      "[244 rows x 6 columns]\n"
     ]
    }
   ],
   "source": [
    "import pandas as pd\n",
    "import matplotlib.pyplot as plt\n",
    "import seaborn as sns\n",
    "import numpy as np\n",
    "from sklearn.linear_model import LinearRegression\n",
    "\n",
    "#load the data into a dataframe\n",
    "tipsDF = pd.read_csv('tips.csv')\n",
    "\n",
    "print(tipsDF)"
   ]
  },
  {
   "cell_type": "markdown",
   "id": "db25c6f8-f647-4732-af09-ea02e0d645be",
   "metadata": {},
   "source": [
    "Groupby tips on weekdays and weekends - 2 points"
   ]
  },
  {
   "cell_type": "code",
   "execution_count": 92,
   "id": "f5193708-9c32-4fcb-8a9a-62b8bc844249",
   "metadata": {},
   "outputs": [
    {
     "name": "stdout",
     "output_type": "stream",
     "text": [
      "Groupings\n",
      "Weekday    2.762840\n",
      "Weekend    3.115276\n",
      "Name: tip, dtype: float64\n"
     ]
    }
   ],
   "source": [
    "#groupby tips on weekdays and weekends\n",
    "weekend = ['Sat', 'Sun']\n",
    "tipsDF['Groupings'] = tipsDF['day'].apply(lambda x: 'Weekend' if x in weekend else 'Weekday')\n",
    "\n",
    "groups = tipsDF.groupby('Groupings')['tip'].mean()\n",
    "\n",
    "print(groups)"
   ]
  },
  {
   "cell_type": "markdown",
   "id": "90c2ee38-cb1e-495d-899b-2f8ae72cf1cb",
   "metadata": {},
   "source": [
    "Groupby smokers on weekdays and weekends  - 2 points"
   ]
  },
  {
   "cell_type": "code",
   "execution_count": 95,
   "id": "865d3798-abd6-4b84-b40a-ef21471256f7",
   "metadata": {},
   "outputs": [
    {
     "name": "stdout",
     "output_type": "stream",
     "text": [
      "Groupings  smoker\n",
      "Weekday    No        2.685102\n",
      "           Yes       2.881875\n",
      "Weekend    No        3.139216\n",
      "           Yes       3.075246\n",
      "Name: tip, dtype: float64\n"
     ]
    }
   ],
   "source": [
    "#groupby smokers on weekdays and weekends\n",
    "groupsSmokers = tipsDF.groupby(['Groupings', 'smoker'])['tip'].mean()\n",
    "\n",
    "print(groupsSmokers)"
   ]
  },
  {
   "cell_type": "markdown",
   "id": "4756972f-296c-4c5f-afb6-7e07859aa8c3",
   "metadata": {},
   "source": [
    "Groupby quartiles on total bill  - 2 points"
   ]
  },
  {
   "cell_type": "code",
   "execution_count": 98,
   "id": "5cff3277-2a09-45f2-9b02-286e8c41506c",
   "metadata": {},
   "outputs": [
    {
     "name": "stdout",
     "output_type": "stream",
     "text": [
      "Bill Quartiles\n",
      "(3.069, 13.348]     1.920656\n",
      "(13.348, 17.795]    2.609672\n",
      "(17.795, 24.127]    3.225246\n",
      "(24.127, 50.81]     4.237541\n",
      "Name: tip, dtype: float64\n"
     ]
    }
   ],
   "source": [
    "#groupby quartiles on total bill\n",
    "tipsDF['Bill Quartiles'] = pd.qcut(tipsDF['total_bill'], 4)\n",
    "groupsQuartiles = tipsDF.groupby('Bill Quartiles', observed = True)['tip'].mean()\n",
    "\n",
    "print(groupsQuartiles)"
   ]
  },
  {
   "cell_type": "markdown",
   "id": "53a5b1bb-6cf9-4ab1-8983-ab8e39359868",
   "metadata": {},
   "source": [
    "Calculate correlation for the following:"
   ]
  },
  {
   "cell_type": "markdown",
   "id": "24f59b06-7da7-415b-acff-2bb227b2c457",
   "metadata": {},
   "source": [
    "Smoker and Tip  - 1 point"
   ]
  },
  {
   "cell_type": "code",
   "execution_count": 102,
   "id": "9c14895a-ca54-49fb-b3f3-0edec76d2559",
   "metadata": {},
   "outputs": [
    {
     "name": "stdout",
     "output_type": "stream",
     "text": [
      "0.005928539527806652\n"
     ]
    }
   ],
   "source": [
    "#calculate correlations\n",
    "#map categorical variables to numerical values\n",
    "tipsDF['smoker_mapped'] = tipsDF['smoker'].map({'No': 0, 'Yes': 1})\n",
    "corrSmokerTip = tipsDF['smoker_mapped'].corr(tipsDF['tip'])\n",
    "\n",
    "print(corrSmokerTip)"
   ]
  },
  {
   "cell_type": "markdown",
   "id": "8bc2ea9a-7d30-4214-9594-6214d28ca2e0",
   "metadata": {},
   "source": [
    "Time and Tip  - 1 point"
   ]
  },
  {
   "cell_type": "code",
   "execution_count": 105,
   "id": "c1c0cb47-d29c-488d-85c7-1dd48645dfe3",
   "metadata": {},
   "outputs": [
    {
     "name": "stdout",
     "output_type": "stream",
     "text": [
      "0.12162906226028676\n"
     ]
    }
   ],
   "source": [
    "tipsDF['time_mapped'] = tipsDF['time'].map({'Lunch': 0, 'Dinner': 1})\n",
    "corrTimeTip = tipsDF['time_mapped'].corr(tipsDF['tip'])\n",
    "\n",
    "print(corrTimeTip)"
   ]
  },
  {
   "cell_type": "markdown",
   "id": "e98cf567-8e51-4e9a-afe0-2348fed48e3b",
   "metadata": {},
   "source": [
    "Day and Tip - 1 point"
   ]
  },
  {
   "cell_type": "code",
   "execution_count": 108,
   "id": "3fd75d04-86e8-493a-a7c4-31638a392ac0",
   "metadata": {},
   "outputs": [
    {
     "name": "stdout",
     "output_type": "stream",
     "text": [
      "0.1354987638244965\n"
     ]
    }
   ],
   "source": [
    "tipsDF['day_mapped'] = tipsDF['day'].map({'Thur': 0, 'Fri': 1, 'Sat': 2, 'Sun': 3})\n",
    "corrDayTip = tipsDF['day_mapped'].corr(tipsDF['tip'])\n",
    "\n",
    "print(corrDayTip)"
   ]
  },
  {
   "cell_type": "markdown",
   "id": "8a42e5c7-8df7-4f05-852b-35b7a4b8c1f8",
   "metadata": {},
   "source": [
    "Create a pivot table with three levels of index - 1 point"
   ]
  },
  {
   "cell_type": "code",
   "execution_count": 111,
   "id": "b3b5794b-be3d-410a-9eb6-36a553a11945",
   "metadata": {},
   "outputs": [
    {
     "name": "stdout",
     "output_type": "stream",
     "text": [
      "                              tip\n",
      "Groupings smoker time            \n",
      "Weekday   No     Dinner  2.812500\n",
      "                 Lunch   2.673778\n",
      "          Yes    Dinner  3.003333\n",
      "                 Lunch   2.834348\n",
      "Weekend   No     Dinner  3.139216\n",
      "          Yes    Dinner  3.075246\n"
     ]
    }
   ],
   "source": [
    "#pivot table with three levels of index\n",
    "pt = tipsDF.pivot_table(values = 'tip', index = ['Groupings', 'smoker', 'time'], aggfunc = 'mean')\n",
    "\n",
    "print(pt)"
   ]
  }
 ],
 "metadata": {
  "kernelspec": {
   "display_name": "Python 3 (ipykernel)",
   "language": "python",
   "name": "python3"
  },
  "language_info": {
   "codemirror_mode": {
    "name": "ipython",
    "version": 3
   },
   "file_extension": ".py",
   "mimetype": "text/x-python",
   "name": "python",
   "nbconvert_exporter": "python",
   "pygments_lexer": "ipython3",
   "version": "3.12.3"
  }
 },
 "nbformat": 4,
 "nbformat_minor": 5
}
